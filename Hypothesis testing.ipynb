{
 "cells": [
  {
   "cell_type": "markdown",
   "id": "12916c44",
   "metadata": {},
   "source": [
    "# Hypothesis Testing with Python"
   ]
  },
  {
   "cell_type": "markdown",
   "id": "e114d6b5",
   "metadata": {
    "toc": true
   },
   "source": [
    "<h1>Table of Contents<span class=\"tocSkip\"></span></h1>\n",
    "<div class=\"toc\"><ul class=\"toc-item\"><li><span><a href=\"#Parametric-hypothesis-testing\" data-toc-modified-id=\"Parametric-hypothesis-testing-1\">Parametric hypothesis testing</a></span><ul class=\"toc-item\"><li><span><a href=\"#Testing-the-mean\" data-toc-modified-id=\"Testing-the-mean-1.1\">Testing the mean</a></span><ul class=\"toc-item\"><li><span><a href=\"#The-theory\" data-toc-modified-id=\"The-theory-1.1.1\">The theory</a></span></li><li><span><a href=\"#Practice-with-Python\" data-toc-modified-id=\"Practice-with-Python-1.1.2\">Practice with Python</a></span></li></ul></li><li><span><a href=\"#Comparing-two-means\" data-toc-modified-id=\"Comparing-two-means-1.2\">Comparing two means</a></span><ul class=\"toc-item\"><li><span><a href=\"#Paired-sample-t-test\" data-toc-modified-id=\"Paired-sample-t-test-1.2.1\">Paired sample t-test</a></span></li><li><span><a href=\"#A-two-sample-t-test\" data-toc-modified-id=\"A-two-sample-t-test-1.2.2\">A two-sample t-test</a></span></li></ul></li><li><span><a href=\"#Testing-the-proportion\" data-toc-modified-id=\"Testing-the-proportion-1.3\">Testing the proportion</a></span><ul class=\"toc-item\"><li><span><a href=\"#The-theory\" data-toc-modified-id=\"The-theory-1.3.1\">The theory</a></span></li><li><span><a href=\"#Practice-with-Python\" data-toc-modified-id=\"Practice-with-Python-1.3.2\">Practice with Python</a></span></li><li><span><a href=\"#Other-types-of-alternative-hypothesis\" data-toc-modified-id=\"Other-types-of-alternative-hypothesis-1.3.3\">Other types of alternative hypothesis</a></span></li></ul></li><li><span><a href=\"#Comparing-two-proportions\" data-toc-modified-id=\"Comparing-two-proportions-1.4\">Comparing two proportions</a></span></li></ul></li></ul></div>"
   ]
  },
  {
   "cell_type": "markdown",
   "id": "ac4fcb93",
   "metadata": {},
   "source": [
    "Hypothesis testing is a data analysis method conducted to test one hypothesis (call null hypothesis, $H_0$) against another hypothesis (the alternative hypothesis, $H_1$). \n",
    "\n",
    "We will use the random sample $X_1,\\ldots, X_n$ (the data) to help decide between the hypothesis $H_0$ or $H_1$ with a fixed level of significance $\\alpha$ which is the error to reject $H_0$ knowing that $H_0$ is correct. \n",
    "\n",
    "$$\\alpha = \\mathbb{P}\\left(H_0\\mbox{ rejected } \\mid H_0 \\mbox{ true}\\right)$$"
   ]
  },
  {
   "cell_type": "markdown",
   "id": "f302a244",
   "metadata": {},
   "source": [
    "Any Hypothesis testing procedure should derive the following\n",
    "\n",
    "+ The test statistics $T$: It's a random variable computed from the random sample and where the probability distribution of $T$ is known when $H_0$ is true. \n",
    "\n",
    "+ The observed statistics $t_\\mbox{obs}$ from $T$ computed from the observed random sample $x_1,\\ldots,x_n$:\n",
    "\n",
    "$$t_\\mbox{obs}=T(x_1,\\ldots,x_n)$$\n",
    "\n",
    "+ The \\textbf{p-value}: It's the largest probability to reject $H_0$ assuming that $H_0$ correct.  A smaller p-value means stronger evidence in favor of the alternative hypothesis.\n",
    "\n"
   ]
  },
  {
   "cell_type": "markdown",
   "id": "00ea324d",
   "metadata": {},
   "source": [
    "There are two types of Hypothesis testing procedures: parametric and non-parametric testing. \n",
    "\n",
    "+ Parametric hypothesis testing is a testing procedure used when the hypothesis is based on comparing a population parameter to given values.\n",
    "\n",
    "+ Non-parametric hypothesis testing is used when the hypothesis is not based on a population parameter. It's about testing one assumption against its opposite. \n"
   ]
  },
  {
   "cell_type": "markdown",
   "id": "d33616c5",
   "metadata": {},
   "source": [
    "## Parametric hypothesis testing "
   ]
  },
  {
   "cell_type": "markdown",
   "id": "ec0dbda5",
   "metadata": {},
   "source": [
    "\n",
    "+ Parametric tests are more powerful and reliable than non-parametric tests. \n",
    "\n",
    "+ The hypothesis is developed on the parameters of the population distribution. \n",
    "\n",
    "+ We will see in this chapter how to perform Hypothesis testing in the following cases: \n",
    "\n",
    "  + The mean: comparing to a given value, comparing between two means \n",
    "  + The proportion: comparing to a given value, comparing between two means\n",
    "\n"
   ]
  },
  {
   "cell_type": "markdown",
   "id": "3db66bab",
   "metadata": {},
   "source": [
    "### Testing the mean "
   ]
  },
  {
   "cell_type": "markdown",
   "id": "be90f109",
   "metadata": {},
   "source": [
    "#### The theory"
   ]
  },
  {
   "cell_type": "markdown",
   "id": "cc34f83f",
   "metadata": {},
   "source": [
    "We would like to test the following null hypothesis \n",
    "$$ H_0: \\; \\mu=\\mu_0$$\n",
    "versus \n",
    "$$ H_1: \\; \\mu\\not=\\mu_0$$\n",
    "where $\\mu_0$ is given from a random sample $X_1,\\ldots,X_n$ assumed to be generated from a Normal distribution with mean $\\mu$ and unknown variance $\\sigma^2$. "
   ]
  },
  {
   "cell_type": "markdown",
   "id": "08b77c42",
   "metadata": {},
   "source": [
    "The test statistics of the test is \n",
    "$$T=\\sqrt{n}\\,\\displaystyle\\frac{\\overline{X}-\\mu}{S}$$\n",
    "where $\\overline{X}$ is the sample mean and $S$ is the sample standard deviation. "
   ]
  },
  {
   "cell_type": "markdown",
   "id": "eb7e94b5",
   "metadata": {},
   "source": [
    "Under $H_0$, $T$ is equal to \n",
    "$$T=\\sqrt{n}\\,\\displaystyle\\frac{\\overline{X}-\\mu_0}{S}$$\n",
    "and follows a $t-$distribution with $n-1$ degrees of freedom. "
   ]
  },
  {
   "cell_type": "markdown",
   "id": "731f42fe",
   "metadata": {},
   "source": [
    "####  Practice with Python"
   ]
  },
  {
   "cell_type": "markdown",
   "id": "fe3d2344",
   "metadata": {},
   "source": [
    "Let's generate a random sample of size 15, mean $\\mu=-2$, and standard deviation $\\sigma=2$ (then with variance $\\sigma^2=4$). "
   ]
  },
  {
   "cell_type": "code",
   "execution_count": 1,
   "id": "9da696f8",
   "metadata": {},
   "outputs": [],
   "source": [
    "import numpy as np\n",
    "np.random.seed(7654567)\n",
    "x=np.random.normal(size=15,loc=-2,scale=2)"
   ]
  },
  {
   "cell_type": "code",
   "execution_count": 2,
   "id": "dfafdac8",
   "metadata": {},
   "outputs": [
    {
     "data": {
      "text/plain": [
       "array([-3.89395351, -2.55250403, -2.39746865,  0.98703995, -2.8607237 ,\n",
       "       -1.39481847, -0.74237156, -4.63886095, -3.81258843, -2.89188048,\n",
       "       -1.50048335, -3.31429764, -3.28882943, -0.96256977, -2.0684448 ])"
      ]
     },
     "execution_count": 2,
     "metadata": {},
     "output_type": "execute_result"
    }
   ],
   "source": [
    "x"
   ]
  },
  {
   "cell_type": "markdown",
   "id": "3a714006",
   "metadata": {},
   "source": [
    "We assume that the random sample `x` is generated from a Normal probability distribution with unknown mean and variance. We will test now the following hypothesis \n",
    "\n",
    "$$ H_0: \\; \\mu=-2$$\n",
    "versus \n",
    "$$ H_1: \\; \\mu\\not=-2$$"
   ]
  },
  {
   "cell_type": "code",
   "execution_count": 3,
   "id": "77319362",
   "metadata": {},
   "outputs": [],
   "source": [
    "from scipy.stats import ttest_1samp"
   ]
  },
  {
   "cell_type": "code",
   "execution_count": 4,
   "id": "3535334c",
   "metadata": {},
   "outputs": [],
   "source": [
    "test_mean=ttest_1samp(x, -2, alternative='two-sided')"
   ]
  },
  {
   "cell_type": "markdown",
   "id": "79f94af4",
   "metadata": {},
   "source": [
    "The output above shows that $t_\\mbox{obs}$ is "
   ]
  },
  {
   "cell_type": "code",
   "execution_count": 5,
   "id": "c250e47d",
   "metadata": {},
   "outputs": [
    {
     "data": {
      "text/plain": [
       "-0.948081719359044"
      ]
     },
     "execution_count": 5,
     "metadata": {},
     "output_type": "execute_result"
    }
   ],
   "source": [
    "test_mean.statistic"
   ]
  },
  {
   "cell_type": "markdown",
   "id": "4d5bebdd",
   "metadata": {},
   "source": [
    "and the pvalue is "
   ]
  },
  {
   "cell_type": "code",
   "execution_count": 6,
   "id": "9db0ec7b",
   "metadata": {},
   "outputs": [
    {
     "data": {
      "text/plain": [
       "0.3591669622802579"
      ]
     },
     "execution_count": 6,
     "metadata": {},
     "output_type": "execute_result"
    }
   ],
   "source": [
    "test_mean.pvalue"
   ]
  },
  {
   "cell_type": "markdown",
   "id": "b6aca140",
   "metadata": {},
   "source": [
    "Since this p-value is greater than 0.05 (5%), we can conclude that we can accept the hypothesis $H_0$."
   ]
  },
  {
   "cell_type": "markdown",
   "id": "d2030862",
   "metadata": {},
   "source": [
    "**How can the test statistc and the p-value are computed?**"
   ]
  },
  {
   "cell_type": "code",
   "execution_count": 7,
   "id": "87456cbd",
   "metadata": {},
   "outputs": [
    {
     "data": {
      "text/plain": [
       "-2.3555169880044056"
      ]
     },
     "execution_count": 7,
     "metadata": {},
     "output_type": "execute_result"
    }
   ],
   "source": [
    "m=np.mean(x)\n",
    "m"
   ]
  },
  {
   "cell_type": "code",
   "execution_count": 8,
   "id": "6c94cba5",
   "metadata": {},
   "outputs": [
    {
     "data": {
      "text/plain": [
       "0.3749855953817513"
      ]
     },
     "execution_count": 8,
     "metadata": {},
     "output_type": "execute_result"
    }
   ],
   "source": [
    "std_error=np.std(x)/np.sqrt(len(x)-1)\n",
    "std_error"
   ]
  },
  {
   "cell_type": "markdown",
   "id": "50ae85f2",
   "metadata": {},
   "source": [
    "Under $ H_0: \\; \\mu=-2$, the test statistics is then"
   ]
  },
  {
   "cell_type": "code",
   "execution_count": 9,
   "id": "6b18dc84",
   "metadata": {},
   "outputs": [
    {
     "data": {
      "text/plain": [
       "-0.948081719359044"
      ]
     },
     "execution_count": 9,
     "metadata": {},
     "output_type": "execute_result"
    }
   ],
   "source": [
    "(m+2)/std_error"
   ]
  },
  {
   "cell_type": "code",
   "execution_count": 10,
   "id": "f6a3da1b",
   "metadata": {},
   "outputs": [
    {
     "data": {
      "text/plain": [
       "-0.948081719359044"
      ]
     },
     "execution_count": 10,
     "metadata": {},
     "output_type": "execute_result"
    }
   ],
   "source": [
    "test_mean.statistic"
   ]
  },
  {
   "cell_type": "markdown",
   "id": "3311d4ea",
   "metadata": {},
   "source": [
    "The p-value is then computed as follows"
   ]
  },
  {
   "cell_type": "code",
   "execution_count": 11,
   "id": "05801f39",
   "metadata": {},
   "outputs": [],
   "source": [
    "from scipy import stats\n",
    "X = stats.t(len(x)-1)"
   ]
  },
  {
   "cell_type": "code",
   "execution_count": 12,
   "id": "c492821a",
   "metadata": {},
   "outputs": [
    {
     "data": {
      "text/plain": [
       "0.3591669622802579"
      ]
     },
     "execution_count": 12,
     "metadata": {},
     "output_type": "execute_result"
    }
   ],
   "source": [
    "2*X.cdf(test_mean.statistic)"
   ]
  },
  {
   "cell_type": "markdown",
   "id": "ef278582",
   "metadata": {},
   "source": [
    "And the p-value is "
   ]
  },
  {
   "cell_type": "code",
   "execution_count": 13,
   "id": "2ec3c264",
   "metadata": {},
   "outputs": [
    {
     "data": {
      "text/plain": [
       "0.3591669622802579"
      ]
     },
     "execution_count": 13,
     "metadata": {},
     "output_type": "execute_result"
    }
   ],
   "source": [
    "test_mean.pvalue"
   ]
  },
  {
   "cell_type": "markdown",
   "id": "827f102b",
   "metadata": {},
   "source": [
    "We can also perform the following hypothesis testing. It's called the lower-tail alternative test: \n",
    "\n",
    "$$ H_0: \\; \\mu=-2$$\n",
    "versus \n",
    "$$ H_1: \\; \\mu<-2$$"
   ]
  },
  {
   "cell_type": "code",
   "execution_count": 14,
   "id": "0751a5fc",
   "metadata": {},
   "outputs": [],
   "source": [
    "test_mean1=ttest_1samp(x, -2, alternative='less')"
   ]
  },
  {
   "cell_type": "code",
   "execution_count": 15,
   "id": "d545078e",
   "metadata": {},
   "outputs": [
    {
     "data": {
      "text/plain": [
       "-0.948081719359044"
      ]
     },
     "execution_count": 15,
     "metadata": {},
     "output_type": "execute_result"
    }
   ],
   "source": [
    "test_mean1.statistic"
   ]
  },
  {
   "cell_type": "code",
   "execution_count": 16,
   "id": "875fc07b",
   "metadata": {},
   "outputs": [
    {
     "data": {
      "text/plain": [
       "0.17958348114012895"
      ]
     },
     "execution_count": 16,
     "metadata": {},
     "output_type": "execute_result"
    }
   ],
   "source": [
    "test_mean1.pvalue"
   ]
  },
  {
   "cell_type": "markdown",
   "id": "fd6d4efb",
   "metadata": {},
   "source": [
    "It's computed as follows "
   ]
  },
  {
   "cell_type": "code",
   "execution_count": 17,
   "id": "09c27fba",
   "metadata": {},
   "outputs": [
    {
     "data": {
      "text/plain": [
       "0.17958348114012895"
      ]
     },
     "execution_count": 17,
     "metadata": {},
     "output_type": "execute_result"
    }
   ],
   "source": [
    "X.cdf(test_mean.statistic)"
   ]
  },
  {
   "cell_type": "markdown",
   "id": "1bdea5c7",
   "metadata": {},
   "source": [
    "We can also perform the following hypothesis testing. It's called the **upper-tail** alternative test: \n",
    "\n",
    "$$ H_0: \\; \\mu=-2$$\n",
    "versus \n",
    "$$ H_1: \\; \\mu>-2$$"
   ]
  },
  {
   "cell_type": "code",
   "execution_count": 18,
   "id": "7083b2ff",
   "metadata": {},
   "outputs": [],
   "source": [
    "test_mean2=ttest_1samp(x, -2, alternative='greater')"
   ]
  },
  {
   "cell_type": "code",
   "execution_count": 19,
   "id": "32125870",
   "metadata": {},
   "outputs": [
    {
     "data": {
      "text/plain": [
       "-0.948081719359044"
      ]
     },
     "execution_count": 19,
     "metadata": {},
     "output_type": "execute_result"
    }
   ],
   "source": [
    "test_mean2.statistic"
   ]
  },
  {
   "cell_type": "code",
   "execution_count": 20,
   "id": "826f99b1",
   "metadata": {},
   "outputs": [
    {
     "data": {
      "text/plain": [
       "0.8204165188598711"
      ]
     },
     "execution_count": 20,
     "metadata": {},
     "output_type": "execute_result"
    }
   ],
   "source": [
    "test_mean2.pvalue"
   ]
  },
  {
   "cell_type": "markdown",
   "id": "06801859",
   "metadata": {},
   "source": [
    "The p-value is computed as follows "
   ]
  },
  {
   "cell_type": "code",
   "execution_count": 21,
   "id": "47bf1534",
   "metadata": {},
   "outputs": [
    {
     "data": {
      "text/plain": [
       "0.8204165188598711"
      ]
     },
     "execution_count": 21,
     "metadata": {},
     "output_type": "execute_result"
    }
   ],
   "source": [
    "1-X.cdf(test_mean.statistic)"
   ]
  },
  {
   "cell_type": "markdown",
   "id": "52b694f0",
   "metadata": {},
   "source": [
    "### Comparing two means "
   ]
  },
  {
   "cell_type": "markdown",
   "id": "f1ea468a",
   "metadata": {},
   "source": [
    "We have two types of hypothesis testing comparing two means: "
   ]
  },
  {
   "cell_type": "markdown",
   "id": "65f035fd",
   "metadata": {},
   "source": [
    "+ A paired sample t-test is a dependent sample t-test, which is used to decide whether the mean difference between two observations of the same group is zero. \n",
    "\n",
    "**Example:**  Compare the difference in blood pressure level for a group of patients before and after some drug treatment.\n",
    "\n"
   ]
  },
  {
   "cell_type": "markdown",
   "id": "954e60d6",
   "metadata": {},
   "source": [
    "+ A two-sample t-test is used for comparing the significant difference between two independent groups. This test is also known as an independent samples t-test.\n",
    "\n",
    "**Example:** Comparing between the salaries of a sample of men and women employees. "
   ]
  },
  {
   "cell_type": "markdown",
   "id": "7d1d243e",
   "metadata": {},
   "source": [
    "#### Paired sample t-test"
   ]
  },
  {
   "cell_type": "markdown",
   "id": "4b5c9da9",
   "metadata": {},
   "source": [
    "We are going to the following hypothesis: \n",
    "    \n",
    "+ $H_0:$ Mean difference between the two dependent samples is 0. \n",
    "+ $H_1$: Mean difference between the two dependent samples is not 0.\n",
    "\n"
   ]
  },
  {
   "cell_type": "markdown",
   "id": "0303c971",
   "metadata": {},
   "source": [
    "**Example:** we're comparing the grades between the Quiz 1 and the Quiz 2"
   ]
  },
  {
   "cell_type": "code",
   "execution_count": 22,
   "id": "08f15d10",
   "metadata": {},
   "outputs": [],
   "source": [
    "import pandas as pd"
   ]
  },
  {
   "cell_type": "code",
   "execution_count": 23,
   "id": "edb45c94",
   "metadata": {
    "scrolled": true
   },
   "outputs": [],
   "source": [
    "df=pd.read_csv('student_grades.csv')"
   ]
  },
  {
   "cell_type": "code",
   "execution_count": 24,
   "id": "05c9e9c4",
   "metadata": {},
   "outputs": [
    {
     "data": {
      "text/html": [
       "<div>\n",
       "<style scoped>\n",
       "    .dataframe tbody tr th:only-of-type {\n",
       "        vertical-align: middle;\n",
       "    }\n",
       "\n",
       "    .dataframe tbody tr th {\n",
       "        vertical-align: top;\n",
       "    }\n",
       "\n",
       "    .dataframe thead th {\n",
       "        text-align: right;\n",
       "    }\n",
       "</style>\n",
       "<table border=\"1\" class=\"dataframe\">\n",
       "  <thead>\n",
       "    <tr style=\"text-align: right;\">\n",
       "      <th></th>\n",
       "      <th>Student</th>\n",
       "      <th>Section</th>\n",
       "      <th>Quiz 1</th>\n",
       "      <th>Quiz 2</th>\n",
       "      <th>Midterm 1</th>\n",
       "    </tr>\n",
       "  </thead>\n",
       "  <tbody>\n",
       "    <tr>\n",
       "      <th>0</th>\n",
       "      <td>1</td>\n",
       "      <td>Section 1</td>\n",
       "      <td>17.5</td>\n",
       "      <td>13.4575</td>\n",
       "      <td>22.5</td>\n",
       "    </tr>\n",
       "    <tr>\n",
       "      <th>1</th>\n",
       "      <td>2</td>\n",
       "      <td>Section 1</td>\n",
       "      <td>16.5</td>\n",
       "      <td>14.2125</td>\n",
       "      <td>25.0</td>\n",
       "    </tr>\n",
       "    <tr>\n",
       "      <th>2</th>\n",
       "      <td>3</td>\n",
       "      <td>Section 2</td>\n",
       "      <td>12.5</td>\n",
       "      <td>14.6150</td>\n",
       "      <td>23.5</td>\n",
       "    </tr>\n",
       "    <tr>\n",
       "      <th>3</th>\n",
       "      <td>4</td>\n",
       "      <td>Section 2</td>\n",
       "      <td>10.5</td>\n",
       "      <td>15.2100</td>\n",
       "      <td>25.0</td>\n",
       "    </tr>\n",
       "    <tr>\n",
       "      <th>4</th>\n",
       "      <td>5</td>\n",
       "      <td>Section 2</td>\n",
       "      <td>5.5</td>\n",
       "      <td>12.2225</td>\n",
       "      <td>24.5</td>\n",
       "    </tr>\n",
       "    <tr>\n",
       "      <th>5</th>\n",
       "      <td>6</td>\n",
       "      <td>Section 1</td>\n",
       "      <td>14.0</td>\n",
       "      <td>14.5875</td>\n",
       "      <td>23.5</td>\n",
       "    </tr>\n",
       "    <tr>\n",
       "      <th>6</th>\n",
       "      <td>7</td>\n",
       "      <td>Section 2</td>\n",
       "      <td>11.0</td>\n",
       "      <td>NaN</td>\n",
       "      <td>20.5</td>\n",
       "    </tr>\n",
       "    <tr>\n",
       "      <th>7</th>\n",
       "      <td>8</td>\n",
       "      <td>Section 2</td>\n",
       "      <td>15.0</td>\n",
       "      <td>18.7500</td>\n",
       "      <td>25.0</td>\n",
       "    </tr>\n",
       "    <tr>\n",
       "      <th>8</th>\n",
       "      <td>9</td>\n",
       "      <td>Section 2</td>\n",
       "      <td>17.0</td>\n",
       "      <td>16.5000</td>\n",
       "      <td>25.0</td>\n",
       "    </tr>\n",
       "    <tr>\n",
       "      <th>9</th>\n",
       "      <td>10</td>\n",
       "      <td>Section 1</td>\n",
       "      <td>14.0</td>\n",
       "      <td>19.2500</td>\n",
       "      <td>19.5</td>\n",
       "    </tr>\n",
       "    <tr>\n",
       "      <th>10</th>\n",
       "      <td>11</td>\n",
       "      <td>Section 2</td>\n",
       "      <td>11.0</td>\n",
       "      <td>10.9625</td>\n",
       "      <td>24.5</td>\n",
       "    </tr>\n",
       "    <tr>\n",
       "      <th>11</th>\n",
       "      <td>12</td>\n",
       "      <td>Section 1</td>\n",
       "      <td>10.5</td>\n",
       "      <td>7.3650</td>\n",
       "      <td>19.5</td>\n",
       "    </tr>\n",
       "    <tr>\n",
       "      <th>12</th>\n",
       "      <td>13</td>\n",
       "      <td>Section 1</td>\n",
       "      <td>16.5</td>\n",
       "      <td>18.2450</td>\n",
       "      <td>25.0</td>\n",
       "    </tr>\n",
       "    <tr>\n",
       "      <th>13</th>\n",
       "      <td>14</td>\n",
       "      <td>Section 1</td>\n",
       "      <td>14.5</td>\n",
       "      <td>18.8375</td>\n",
       "      <td>21.5</td>\n",
       "    </tr>\n",
       "    <tr>\n",
       "      <th>14</th>\n",
       "      <td>15</td>\n",
       "      <td>Section 1</td>\n",
       "      <td>14.5</td>\n",
       "      <td>11.1100</td>\n",
       "      <td>25.0</td>\n",
       "    </tr>\n",
       "    <tr>\n",
       "      <th>15</th>\n",
       "      <td>16</td>\n",
       "      <td>Section 1</td>\n",
       "      <td>8.0</td>\n",
       "      <td>8.7475</td>\n",
       "      <td>24.0</td>\n",
       "    </tr>\n",
       "    <tr>\n",
       "      <th>16</th>\n",
       "      <td>17</td>\n",
       "      <td>Section 1</td>\n",
       "      <td>14.5</td>\n",
       "      <td>15.9125</td>\n",
       "      <td>21.0</td>\n",
       "    </tr>\n",
       "    <tr>\n",
       "      <th>17</th>\n",
       "      <td>18</td>\n",
       "      <td>Section 2</td>\n",
       "      <td>14.0</td>\n",
       "      <td>8.8975</td>\n",
       "      <td>16.5</td>\n",
       "    </tr>\n",
       "    <tr>\n",
       "      <th>18</th>\n",
       "      <td>19</td>\n",
       "      <td>Section 1</td>\n",
       "      <td>11.0</td>\n",
       "      <td>4.1425</td>\n",
       "      <td>21.0</td>\n",
       "    </tr>\n",
       "    <tr>\n",
       "      <th>19</th>\n",
       "      <td>20</td>\n",
       "      <td>Section 2</td>\n",
       "      <td>17.0</td>\n",
       "      <td>14.9500</td>\n",
       "      <td>25.0</td>\n",
       "    </tr>\n",
       "    <tr>\n",
       "      <th>20</th>\n",
       "      <td>21</td>\n",
       "      <td>Section 1</td>\n",
       "      <td>18.5</td>\n",
       "      <td>13.6250</td>\n",
       "      <td>24.0</td>\n",
       "    </tr>\n",
       "    <tr>\n",
       "      <th>21</th>\n",
       "      <td>22</td>\n",
       "      <td>Section 2</td>\n",
       "      <td>14.0</td>\n",
       "      <td>13.5025</td>\n",
       "      <td>23.0</td>\n",
       "    </tr>\n",
       "    <tr>\n",
       "      <th>22</th>\n",
       "      <td>23</td>\n",
       "      <td>Section 1</td>\n",
       "      <td>10.5</td>\n",
       "      <td>17.7025</td>\n",
       "      <td>21.5</td>\n",
       "    </tr>\n",
       "    <tr>\n",
       "      <th>23</th>\n",
       "      <td>24</td>\n",
       "      <td>Section 1</td>\n",
       "      <td>10.0</td>\n",
       "      <td>15.5025</td>\n",
       "      <td>24.0</td>\n",
       "    </tr>\n",
       "    <tr>\n",
       "      <th>24</th>\n",
       "      <td>25</td>\n",
       "      <td>Section 2</td>\n",
       "      <td>11.0</td>\n",
       "      <td>12.8750</td>\n",
       "      <td>20.0</td>\n",
       "    </tr>\n",
       "    <tr>\n",
       "      <th>25</th>\n",
       "      <td>26</td>\n",
       "      <td>Section 2</td>\n",
       "      <td>15.0</td>\n",
       "      <td>12.2075</td>\n",
       "      <td>25.0</td>\n",
       "    </tr>\n",
       "    <tr>\n",
       "      <th>26</th>\n",
       "      <td>27</td>\n",
       "      <td>Section 2</td>\n",
       "      <td>16.0</td>\n",
       "      <td>19.0650</td>\n",
       "      <td>24.5</td>\n",
       "    </tr>\n",
       "    <tr>\n",
       "      <th>27</th>\n",
       "      <td>28</td>\n",
       "      <td>Section 2</td>\n",
       "      <td>19.5</td>\n",
       "      <td>20.0000</td>\n",
       "      <td>24.5</td>\n",
       "    </tr>\n",
       "    <tr>\n",
       "      <th>28</th>\n",
       "      <td>29</td>\n",
       "      <td>Section 1</td>\n",
       "      <td>15.0</td>\n",
       "      <td>11.9200</td>\n",
       "      <td>24.0</td>\n",
       "    </tr>\n",
       "    <tr>\n",
       "      <th>29</th>\n",
       "      <td>30</td>\n",
       "      <td>Section 1</td>\n",
       "      <td>18.0</td>\n",
       "      <td>14.4950</td>\n",
       "      <td>25.0</td>\n",
       "    </tr>\n",
       "    <tr>\n",
       "      <th>30</th>\n",
       "      <td>31</td>\n",
       "      <td>Section 2</td>\n",
       "      <td>14.5</td>\n",
       "      <td>16.5650</td>\n",
       "      <td>25.0</td>\n",
       "    </tr>\n",
       "    <tr>\n",
       "      <th>31</th>\n",
       "      <td>32</td>\n",
       "      <td>Section 2</td>\n",
       "      <td>18.5</td>\n",
       "      <td>18.8250</td>\n",
       "      <td>24.0</td>\n",
       "    </tr>\n",
       "    <tr>\n",
       "      <th>32</th>\n",
       "      <td>33</td>\n",
       "      <td>Section 1</td>\n",
       "      <td>14.0</td>\n",
       "      <td>12.1900</td>\n",
       "      <td>25.0</td>\n",
       "    </tr>\n",
       "    <tr>\n",
       "      <th>33</th>\n",
       "      <td>34</td>\n",
       "      <td>Section 2</td>\n",
       "      <td>11.5</td>\n",
       "      <td>10.4950</td>\n",
       "      <td>23.5</td>\n",
       "    </tr>\n",
       "    <tr>\n",
       "      <th>34</th>\n",
       "      <td>35</td>\n",
       "      <td>Section 2</td>\n",
       "      <td>10.0</td>\n",
       "      <td>10.5725</td>\n",
       "      <td>24.0</td>\n",
       "    </tr>\n",
       "    <tr>\n",
       "      <th>35</th>\n",
       "      <td>36</td>\n",
       "      <td>Section 2</td>\n",
       "      <td>20.0</td>\n",
       "      <td>18.5000</td>\n",
       "      <td>25.0</td>\n",
       "    </tr>\n",
       "    <tr>\n",
       "      <th>36</th>\n",
       "      <td>37</td>\n",
       "      <td>Section 1</td>\n",
       "      <td>11.0</td>\n",
       "      <td>14.9400</td>\n",
       "      <td>25.0</td>\n",
       "    </tr>\n",
       "    <tr>\n",
       "      <th>37</th>\n",
       "      <td>38</td>\n",
       "      <td>Section 1</td>\n",
       "      <td>15.0</td>\n",
       "      <td>14.7175</td>\n",
       "      <td>23.5</td>\n",
       "    </tr>\n",
       "    <tr>\n",
       "      <th>38</th>\n",
       "      <td>39</td>\n",
       "      <td>Section 2</td>\n",
       "      <td>18.5</td>\n",
       "      <td>19.5050</td>\n",
       "      <td>23.5</td>\n",
       "    </tr>\n",
       "    <tr>\n",
       "      <th>39</th>\n",
       "      <td>40</td>\n",
       "      <td>Section 1</td>\n",
       "      <td>NaN</td>\n",
       "      <td>20.0000</td>\n",
       "      <td>25.0</td>\n",
       "    </tr>\n",
       "    <tr>\n",
       "      <th>40</th>\n",
       "      <td>41</td>\n",
       "      <td>Section 2</td>\n",
       "      <td>9.5</td>\n",
       "      <td>13.4625</td>\n",
       "      <td>20.0</td>\n",
       "    </tr>\n",
       "    <tr>\n",
       "      <th>41</th>\n",
       "      <td>42</td>\n",
       "      <td>Section 1</td>\n",
       "      <td>14.0</td>\n",
       "      <td>11.8775</td>\n",
       "      <td>20.5</td>\n",
       "    </tr>\n",
       "    <tr>\n",
       "      <th>42</th>\n",
       "      <td>43</td>\n",
       "      <td>Section 2</td>\n",
       "      <td>3.0</td>\n",
       "      <td>NaN</td>\n",
       "      <td>13.0</td>\n",
       "    </tr>\n",
       "    <tr>\n",
       "      <th>43</th>\n",
       "      <td>44</td>\n",
       "      <td>Section 2</td>\n",
       "      <td>13.0</td>\n",
       "      <td>20.0000</td>\n",
       "      <td>25.0</td>\n",
       "    </tr>\n",
       "    <tr>\n",
       "      <th>44</th>\n",
       "      <td>45</td>\n",
       "      <td>Section 1</td>\n",
       "      <td>16.0</td>\n",
       "      <td>18.5700</td>\n",
       "      <td>25.0</td>\n",
       "    </tr>\n",
       "    <tr>\n",
       "      <th>45</th>\n",
       "      <td>46</td>\n",
       "      <td>Section 1</td>\n",
       "      <td>10.5</td>\n",
       "      <td>12.8325</td>\n",
       "      <td>23.0</td>\n",
       "    </tr>\n",
       "    <tr>\n",
       "      <th>46</th>\n",
       "      <td>47</td>\n",
       "      <td>Section 1</td>\n",
       "      <td>16.5</td>\n",
       "      <td>15.4725</td>\n",
       "      <td>21.0</td>\n",
       "    </tr>\n",
       "    <tr>\n",
       "      <th>47</th>\n",
       "      <td>48</td>\n",
       "      <td>Section 2</td>\n",
       "      <td>10.5</td>\n",
       "      <td>18.2550</td>\n",
       "      <td>23.5</td>\n",
       "    </tr>\n",
       "    <tr>\n",
       "      <th>48</th>\n",
       "      <td>49</td>\n",
       "      <td>Section 1</td>\n",
       "      <td>17.5</td>\n",
       "      <td>17.8750</td>\n",
       "      <td>25.0</td>\n",
       "    </tr>\n",
       "    <tr>\n",
       "      <th>49</th>\n",
       "      <td>50</td>\n",
       "      <td>Section 2</td>\n",
       "      <td>13.5</td>\n",
       "      <td>9.8100</td>\n",
       "      <td>23.5</td>\n",
       "    </tr>\n",
       "    <tr>\n",
       "      <th>50</th>\n",
       "      <td>51</td>\n",
       "      <td>Section 1</td>\n",
       "      <td>14.5</td>\n",
       "      <td>19.5050</td>\n",
       "      <td>23.5</td>\n",
       "    </tr>\n",
       "    <tr>\n",
       "      <th>51</th>\n",
       "      <td>52</td>\n",
       "      <td>Section 1</td>\n",
       "      <td>16.5</td>\n",
       "      <td>11.7875</td>\n",
       "      <td>21.5</td>\n",
       "    </tr>\n",
       "  </tbody>\n",
       "</table>\n",
       "</div>"
      ],
      "text/plain": [
       "    Student  Section    Quiz 1   Quiz 2  Midterm 1\n",
       "0         1  Section 1    17.5  13.4575       22.5\n",
       "1         2  Section 1    16.5  14.2125       25.0\n",
       "2         3  Section 2    12.5  14.6150       23.5\n",
       "3         4  Section 2    10.5  15.2100       25.0\n",
       "4         5  Section 2     5.5  12.2225       24.5\n",
       "5         6  Section 1    14.0  14.5875       23.5\n",
       "6         7  Section 2    11.0      NaN       20.5\n",
       "7         8  Section 2    15.0  18.7500       25.0\n",
       "8         9  Section 2    17.0  16.5000       25.0\n",
       "9        10  Section 1    14.0  19.2500       19.5\n",
       "10       11  Section 2    11.0  10.9625       24.5\n",
       "11       12  Section 1    10.5   7.3650       19.5\n",
       "12       13  Section 1    16.5  18.2450       25.0\n",
       "13       14  Section 1    14.5  18.8375       21.5\n",
       "14       15  Section 1    14.5  11.1100       25.0\n",
       "15       16  Section 1     8.0   8.7475       24.0\n",
       "16       17  Section 1    14.5  15.9125       21.0\n",
       "17       18  Section 2    14.0   8.8975       16.5\n",
       "18       19  Section 1    11.0   4.1425       21.0\n",
       "19       20  Section 2    17.0  14.9500       25.0\n",
       "20       21  Section 1    18.5  13.6250       24.0\n",
       "21       22  Section 2    14.0  13.5025       23.0\n",
       "22       23  Section 1    10.5  17.7025       21.5\n",
       "23       24  Section 1    10.0  15.5025       24.0\n",
       "24       25  Section 2    11.0  12.8750       20.0\n",
       "25       26  Section 2    15.0  12.2075       25.0\n",
       "26       27  Section 2    16.0  19.0650       24.5\n",
       "27       28  Section 2    19.5  20.0000       24.5\n",
       "28       29  Section 1    15.0  11.9200       24.0\n",
       "29       30  Section 1    18.0  14.4950       25.0\n",
       "30       31  Section 2    14.5  16.5650       25.0\n",
       "31       32  Section 2    18.5  18.8250       24.0\n",
       "32       33  Section 1    14.0  12.1900       25.0\n",
       "33       34  Section 2    11.5  10.4950       23.5\n",
       "34       35  Section 2    10.0  10.5725       24.0\n",
       "35       36  Section 2    20.0  18.5000       25.0\n",
       "36       37  Section 1    11.0  14.9400       25.0\n",
       "37       38  Section 1    15.0  14.7175       23.5\n",
       "38       39  Section 2    18.5  19.5050       23.5\n",
       "39       40  Section 1     NaN  20.0000       25.0\n",
       "40       41  Section 2     9.5  13.4625       20.0\n",
       "41       42  Section 1    14.0  11.8775       20.5\n",
       "42       43  Section 2     3.0      NaN       13.0\n",
       "43       44  Section 2    13.0  20.0000       25.0\n",
       "44       45  Section 1    16.0  18.5700       25.0\n",
       "45       46  Section 1    10.5  12.8325       23.0\n",
       "46       47  Section 1    16.5  15.4725       21.0\n",
       "47       48  Section 2    10.5  18.2550       23.5\n",
       "48       49  Section 1    17.5  17.8750       25.0\n",
       "49       50  Section 2    13.5   9.8100       23.5\n",
       "50       51  Section 1    14.5  19.5050       23.5\n",
       "51       52  Section 1    16.5  11.7875       21.5"
      ]
     },
     "execution_count": 24,
     "metadata": {},
     "output_type": "execute_result"
    }
   ],
   "source": [
    "df"
   ]
  },
  {
   "cell_type": "markdown",
   "id": "e5e039b3",
   "metadata": {},
   "source": [
    "We remove the missing values from the data "
   ]
  },
  {
   "cell_type": "code",
   "execution_count": 25,
   "id": "e315819c",
   "metadata": {},
   "outputs": [],
   "source": [
    "df=df.dropna()"
   ]
  },
  {
   "cell_type": "code",
   "execution_count": 26,
   "id": "d691a9fe",
   "metadata": {},
   "outputs": [
    {
     "data": {
      "text/html": [
       "<div>\n",
       "<style scoped>\n",
       "    .dataframe tbody tr th:only-of-type {\n",
       "        vertical-align: middle;\n",
       "    }\n",
       "\n",
       "    .dataframe tbody tr th {\n",
       "        vertical-align: top;\n",
       "    }\n",
       "\n",
       "    .dataframe thead th {\n",
       "        text-align: right;\n",
       "    }\n",
       "</style>\n",
       "<table border=\"1\" class=\"dataframe\">\n",
       "  <thead>\n",
       "    <tr style=\"text-align: right;\">\n",
       "      <th></th>\n",
       "      <th>Student</th>\n",
       "      <th>Section</th>\n",
       "      <th>Quiz 1</th>\n",
       "      <th>Quiz 2</th>\n",
       "      <th>Midterm 1</th>\n",
       "    </tr>\n",
       "  </thead>\n",
       "  <tbody>\n",
       "    <tr>\n",
       "      <th>0</th>\n",
       "      <td>1</td>\n",
       "      <td>Section 1</td>\n",
       "      <td>17.5</td>\n",
       "      <td>13.4575</td>\n",
       "      <td>22.5</td>\n",
       "    </tr>\n",
       "    <tr>\n",
       "      <th>1</th>\n",
       "      <td>2</td>\n",
       "      <td>Section 1</td>\n",
       "      <td>16.5</td>\n",
       "      <td>14.2125</td>\n",
       "      <td>25.0</td>\n",
       "    </tr>\n",
       "    <tr>\n",
       "      <th>2</th>\n",
       "      <td>3</td>\n",
       "      <td>Section 2</td>\n",
       "      <td>12.5</td>\n",
       "      <td>14.6150</td>\n",
       "      <td>23.5</td>\n",
       "    </tr>\n",
       "    <tr>\n",
       "      <th>3</th>\n",
       "      <td>4</td>\n",
       "      <td>Section 2</td>\n",
       "      <td>10.5</td>\n",
       "      <td>15.2100</td>\n",
       "      <td>25.0</td>\n",
       "    </tr>\n",
       "    <tr>\n",
       "      <th>4</th>\n",
       "      <td>5</td>\n",
       "      <td>Section 2</td>\n",
       "      <td>5.5</td>\n",
       "      <td>12.2225</td>\n",
       "      <td>24.5</td>\n",
       "    </tr>\n",
       "    <tr>\n",
       "      <th>5</th>\n",
       "      <td>6</td>\n",
       "      <td>Section 1</td>\n",
       "      <td>14.0</td>\n",
       "      <td>14.5875</td>\n",
       "      <td>23.5</td>\n",
       "    </tr>\n",
       "    <tr>\n",
       "      <th>7</th>\n",
       "      <td>8</td>\n",
       "      <td>Section 2</td>\n",
       "      <td>15.0</td>\n",
       "      <td>18.7500</td>\n",
       "      <td>25.0</td>\n",
       "    </tr>\n",
       "    <tr>\n",
       "      <th>8</th>\n",
       "      <td>9</td>\n",
       "      <td>Section 2</td>\n",
       "      <td>17.0</td>\n",
       "      <td>16.5000</td>\n",
       "      <td>25.0</td>\n",
       "    </tr>\n",
       "    <tr>\n",
       "      <th>9</th>\n",
       "      <td>10</td>\n",
       "      <td>Section 1</td>\n",
       "      <td>14.0</td>\n",
       "      <td>19.2500</td>\n",
       "      <td>19.5</td>\n",
       "    </tr>\n",
       "    <tr>\n",
       "      <th>10</th>\n",
       "      <td>11</td>\n",
       "      <td>Section 2</td>\n",
       "      <td>11.0</td>\n",
       "      <td>10.9625</td>\n",
       "      <td>24.5</td>\n",
       "    </tr>\n",
       "    <tr>\n",
       "      <th>11</th>\n",
       "      <td>12</td>\n",
       "      <td>Section 1</td>\n",
       "      <td>10.5</td>\n",
       "      <td>7.3650</td>\n",
       "      <td>19.5</td>\n",
       "    </tr>\n",
       "    <tr>\n",
       "      <th>12</th>\n",
       "      <td>13</td>\n",
       "      <td>Section 1</td>\n",
       "      <td>16.5</td>\n",
       "      <td>18.2450</td>\n",
       "      <td>25.0</td>\n",
       "    </tr>\n",
       "    <tr>\n",
       "      <th>13</th>\n",
       "      <td>14</td>\n",
       "      <td>Section 1</td>\n",
       "      <td>14.5</td>\n",
       "      <td>18.8375</td>\n",
       "      <td>21.5</td>\n",
       "    </tr>\n",
       "    <tr>\n",
       "      <th>14</th>\n",
       "      <td>15</td>\n",
       "      <td>Section 1</td>\n",
       "      <td>14.5</td>\n",
       "      <td>11.1100</td>\n",
       "      <td>25.0</td>\n",
       "    </tr>\n",
       "    <tr>\n",
       "      <th>15</th>\n",
       "      <td>16</td>\n",
       "      <td>Section 1</td>\n",
       "      <td>8.0</td>\n",
       "      <td>8.7475</td>\n",
       "      <td>24.0</td>\n",
       "    </tr>\n",
       "    <tr>\n",
       "      <th>16</th>\n",
       "      <td>17</td>\n",
       "      <td>Section 1</td>\n",
       "      <td>14.5</td>\n",
       "      <td>15.9125</td>\n",
       "      <td>21.0</td>\n",
       "    </tr>\n",
       "    <tr>\n",
       "      <th>17</th>\n",
       "      <td>18</td>\n",
       "      <td>Section 2</td>\n",
       "      <td>14.0</td>\n",
       "      <td>8.8975</td>\n",
       "      <td>16.5</td>\n",
       "    </tr>\n",
       "    <tr>\n",
       "      <th>18</th>\n",
       "      <td>19</td>\n",
       "      <td>Section 1</td>\n",
       "      <td>11.0</td>\n",
       "      <td>4.1425</td>\n",
       "      <td>21.0</td>\n",
       "    </tr>\n",
       "    <tr>\n",
       "      <th>19</th>\n",
       "      <td>20</td>\n",
       "      <td>Section 2</td>\n",
       "      <td>17.0</td>\n",
       "      <td>14.9500</td>\n",
       "      <td>25.0</td>\n",
       "    </tr>\n",
       "    <tr>\n",
       "      <th>20</th>\n",
       "      <td>21</td>\n",
       "      <td>Section 1</td>\n",
       "      <td>18.5</td>\n",
       "      <td>13.6250</td>\n",
       "      <td>24.0</td>\n",
       "    </tr>\n",
       "    <tr>\n",
       "      <th>21</th>\n",
       "      <td>22</td>\n",
       "      <td>Section 2</td>\n",
       "      <td>14.0</td>\n",
       "      <td>13.5025</td>\n",
       "      <td>23.0</td>\n",
       "    </tr>\n",
       "    <tr>\n",
       "      <th>22</th>\n",
       "      <td>23</td>\n",
       "      <td>Section 1</td>\n",
       "      <td>10.5</td>\n",
       "      <td>17.7025</td>\n",
       "      <td>21.5</td>\n",
       "    </tr>\n",
       "    <tr>\n",
       "      <th>23</th>\n",
       "      <td>24</td>\n",
       "      <td>Section 1</td>\n",
       "      <td>10.0</td>\n",
       "      <td>15.5025</td>\n",
       "      <td>24.0</td>\n",
       "    </tr>\n",
       "    <tr>\n",
       "      <th>24</th>\n",
       "      <td>25</td>\n",
       "      <td>Section 2</td>\n",
       "      <td>11.0</td>\n",
       "      <td>12.8750</td>\n",
       "      <td>20.0</td>\n",
       "    </tr>\n",
       "    <tr>\n",
       "      <th>25</th>\n",
       "      <td>26</td>\n",
       "      <td>Section 2</td>\n",
       "      <td>15.0</td>\n",
       "      <td>12.2075</td>\n",
       "      <td>25.0</td>\n",
       "    </tr>\n",
       "    <tr>\n",
       "      <th>26</th>\n",
       "      <td>27</td>\n",
       "      <td>Section 2</td>\n",
       "      <td>16.0</td>\n",
       "      <td>19.0650</td>\n",
       "      <td>24.5</td>\n",
       "    </tr>\n",
       "    <tr>\n",
       "      <th>27</th>\n",
       "      <td>28</td>\n",
       "      <td>Section 2</td>\n",
       "      <td>19.5</td>\n",
       "      <td>20.0000</td>\n",
       "      <td>24.5</td>\n",
       "    </tr>\n",
       "    <tr>\n",
       "      <th>28</th>\n",
       "      <td>29</td>\n",
       "      <td>Section 1</td>\n",
       "      <td>15.0</td>\n",
       "      <td>11.9200</td>\n",
       "      <td>24.0</td>\n",
       "    </tr>\n",
       "    <tr>\n",
       "      <th>29</th>\n",
       "      <td>30</td>\n",
       "      <td>Section 1</td>\n",
       "      <td>18.0</td>\n",
       "      <td>14.4950</td>\n",
       "      <td>25.0</td>\n",
       "    </tr>\n",
       "    <tr>\n",
       "      <th>30</th>\n",
       "      <td>31</td>\n",
       "      <td>Section 2</td>\n",
       "      <td>14.5</td>\n",
       "      <td>16.5650</td>\n",
       "      <td>25.0</td>\n",
       "    </tr>\n",
       "    <tr>\n",
       "      <th>31</th>\n",
       "      <td>32</td>\n",
       "      <td>Section 2</td>\n",
       "      <td>18.5</td>\n",
       "      <td>18.8250</td>\n",
       "      <td>24.0</td>\n",
       "    </tr>\n",
       "    <tr>\n",
       "      <th>32</th>\n",
       "      <td>33</td>\n",
       "      <td>Section 1</td>\n",
       "      <td>14.0</td>\n",
       "      <td>12.1900</td>\n",
       "      <td>25.0</td>\n",
       "    </tr>\n",
       "    <tr>\n",
       "      <th>33</th>\n",
       "      <td>34</td>\n",
       "      <td>Section 2</td>\n",
       "      <td>11.5</td>\n",
       "      <td>10.4950</td>\n",
       "      <td>23.5</td>\n",
       "    </tr>\n",
       "    <tr>\n",
       "      <th>34</th>\n",
       "      <td>35</td>\n",
       "      <td>Section 2</td>\n",
       "      <td>10.0</td>\n",
       "      <td>10.5725</td>\n",
       "      <td>24.0</td>\n",
       "    </tr>\n",
       "    <tr>\n",
       "      <th>35</th>\n",
       "      <td>36</td>\n",
       "      <td>Section 2</td>\n",
       "      <td>20.0</td>\n",
       "      <td>18.5000</td>\n",
       "      <td>25.0</td>\n",
       "    </tr>\n",
       "    <tr>\n",
       "      <th>36</th>\n",
       "      <td>37</td>\n",
       "      <td>Section 1</td>\n",
       "      <td>11.0</td>\n",
       "      <td>14.9400</td>\n",
       "      <td>25.0</td>\n",
       "    </tr>\n",
       "    <tr>\n",
       "      <th>37</th>\n",
       "      <td>38</td>\n",
       "      <td>Section 1</td>\n",
       "      <td>15.0</td>\n",
       "      <td>14.7175</td>\n",
       "      <td>23.5</td>\n",
       "    </tr>\n",
       "    <tr>\n",
       "      <th>38</th>\n",
       "      <td>39</td>\n",
       "      <td>Section 2</td>\n",
       "      <td>18.5</td>\n",
       "      <td>19.5050</td>\n",
       "      <td>23.5</td>\n",
       "    </tr>\n",
       "    <tr>\n",
       "      <th>40</th>\n",
       "      <td>41</td>\n",
       "      <td>Section 2</td>\n",
       "      <td>9.5</td>\n",
       "      <td>13.4625</td>\n",
       "      <td>20.0</td>\n",
       "    </tr>\n",
       "    <tr>\n",
       "      <th>41</th>\n",
       "      <td>42</td>\n",
       "      <td>Section 1</td>\n",
       "      <td>14.0</td>\n",
       "      <td>11.8775</td>\n",
       "      <td>20.5</td>\n",
       "    </tr>\n",
       "    <tr>\n",
       "      <th>43</th>\n",
       "      <td>44</td>\n",
       "      <td>Section 2</td>\n",
       "      <td>13.0</td>\n",
       "      <td>20.0000</td>\n",
       "      <td>25.0</td>\n",
       "    </tr>\n",
       "    <tr>\n",
       "      <th>44</th>\n",
       "      <td>45</td>\n",
       "      <td>Section 1</td>\n",
       "      <td>16.0</td>\n",
       "      <td>18.5700</td>\n",
       "      <td>25.0</td>\n",
       "    </tr>\n",
       "    <tr>\n",
       "      <th>45</th>\n",
       "      <td>46</td>\n",
       "      <td>Section 1</td>\n",
       "      <td>10.5</td>\n",
       "      <td>12.8325</td>\n",
       "      <td>23.0</td>\n",
       "    </tr>\n",
       "    <tr>\n",
       "      <th>46</th>\n",
       "      <td>47</td>\n",
       "      <td>Section 1</td>\n",
       "      <td>16.5</td>\n",
       "      <td>15.4725</td>\n",
       "      <td>21.0</td>\n",
       "    </tr>\n",
       "    <tr>\n",
       "      <th>47</th>\n",
       "      <td>48</td>\n",
       "      <td>Section 2</td>\n",
       "      <td>10.5</td>\n",
       "      <td>18.2550</td>\n",
       "      <td>23.5</td>\n",
       "    </tr>\n",
       "    <tr>\n",
       "      <th>48</th>\n",
       "      <td>49</td>\n",
       "      <td>Section 1</td>\n",
       "      <td>17.5</td>\n",
       "      <td>17.8750</td>\n",
       "      <td>25.0</td>\n",
       "    </tr>\n",
       "    <tr>\n",
       "      <th>49</th>\n",
       "      <td>50</td>\n",
       "      <td>Section 2</td>\n",
       "      <td>13.5</td>\n",
       "      <td>9.8100</td>\n",
       "      <td>23.5</td>\n",
       "    </tr>\n",
       "    <tr>\n",
       "      <th>50</th>\n",
       "      <td>51</td>\n",
       "      <td>Section 1</td>\n",
       "      <td>14.5</td>\n",
       "      <td>19.5050</td>\n",
       "      <td>23.5</td>\n",
       "    </tr>\n",
       "    <tr>\n",
       "      <th>51</th>\n",
       "      <td>52</td>\n",
       "      <td>Section 1</td>\n",
       "      <td>16.5</td>\n",
       "      <td>11.7875</td>\n",
       "      <td>21.5</td>\n",
       "    </tr>\n",
       "  </tbody>\n",
       "</table>\n",
       "</div>"
      ],
      "text/plain": [
       "    Student  Section    Quiz 1   Quiz 2  Midterm 1\n",
       "0         1  Section 1    17.5  13.4575       22.5\n",
       "1         2  Section 1    16.5  14.2125       25.0\n",
       "2         3  Section 2    12.5  14.6150       23.5\n",
       "3         4  Section 2    10.5  15.2100       25.0\n",
       "4         5  Section 2     5.5  12.2225       24.5\n",
       "5         6  Section 1    14.0  14.5875       23.5\n",
       "7         8  Section 2    15.0  18.7500       25.0\n",
       "8         9  Section 2    17.0  16.5000       25.0\n",
       "9        10  Section 1    14.0  19.2500       19.5\n",
       "10       11  Section 2    11.0  10.9625       24.5\n",
       "11       12  Section 1    10.5   7.3650       19.5\n",
       "12       13  Section 1    16.5  18.2450       25.0\n",
       "13       14  Section 1    14.5  18.8375       21.5\n",
       "14       15  Section 1    14.5  11.1100       25.0\n",
       "15       16  Section 1     8.0   8.7475       24.0\n",
       "16       17  Section 1    14.5  15.9125       21.0\n",
       "17       18  Section 2    14.0   8.8975       16.5\n",
       "18       19  Section 1    11.0   4.1425       21.0\n",
       "19       20  Section 2    17.0  14.9500       25.0\n",
       "20       21  Section 1    18.5  13.6250       24.0\n",
       "21       22  Section 2    14.0  13.5025       23.0\n",
       "22       23  Section 1    10.5  17.7025       21.5\n",
       "23       24  Section 1    10.0  15.5025       24.0\n",
       "24       25  Section 2    11.0  12.8750       20.0\n",
       "25       26  Section 2    15.0  12.2075       25.0\n",
       "26       27  Section 2    16.0  19.0650       24.5\n",
       "27       28  Section 2    19.5  20.0000       24.5\n",
       "28       29  Section 1    15.0  11.9200       24.0\n",
       "29       30  Section 1    18.0  14.4950       25.0\n",
       "30       31  Section 2    14.5  16.5650       25.0\n",
       "31       32  Section 2    18.5  18.8250       24.0\n",
       "32       33  Section 1    14.0  12.1900       25.0\n",
       "33       34  Section 2    11.5  10.4950       23.5\n",
       "34       35  Section 2    10.0  10.5725       24.0\n",
       "35       36  Section 2    20.0  18.5000       25.0\n",
       "36       37  Section 1    11.0  14.9400       25.0\n",
       "37       38  Section 1    15.0  14.7175       23.5\n",
       "38       39  Section 2    18.5  19.5050       23.5\n",
       "40       41  Section 2     9.5  13.4625       20.0\n",
       "41       42  Section 1    14.0  11.8775       20.5\n",
       "43       44  Section 2    13.0  20.0000       25.0\n",
       "44       45  Section 1    16.0  18.5700       25.0\n",
       "45       46  Section 1    10.5  12.8325       23.0\n",
       "46       47  Section 1    16.5  15.4725       21.0\n",
       "47       48  Section 2    10.5  18.2550       23.5\n",
       "48       49  Section 1    17.5  17.8750       25.0\n",
       "49       50  Section 2    13.5   9.8100       23.5\n",
       "50       51  Section 1    14.5  19.5050       23.5\n",
       "51       52  Section 1    16.5  11.7875       21.5"
      ]
     },
     "execution_count": 26,
     "metadata": {},
     "output_type": "execute_result"
    }
   ],
   "source": [
    "df"
   ]
  },
  {
   "cell_type": "code",
   "execution_count": 27,
   "id": "cdcce002",
   "metadata": {},
   "outputs": [],
   "source": [
    "from scipy.stats import ttest_rel\n",
    "test_diffmean1=ttest_rel(df['Quiz 1'],df['Quiz 2'])"
   ]
  },
  {
   "cell_type": "code",
   "execution_count": 28,
   "id": "04df7ee0",
   "metadata": {},
   "outputs": [
    {
     "data": {
      "text/plain": [
       "-1.1156139485204906"
      ]
     },
     "execution_count": 28,
     "metadata": {},
     "output_type": "execute_result"
    }
   ],
   "source": [
    "test_diffmean1.statistic"
   ]
  },
  {
   "cell_type": "code",
   "execution_count": 29,
   "id": "c3c5caf7",
   "metadata": {},
   "outputs": [
    {
     "data": {
      "text/plain": [
       "0.2701415971643917"
      ]
     },
     "execution_count": 29,
     "metadata": {},
     "output_type": "execute_result"
    }
   ],
   "source": [
    "test_diffmean1.pvalue"
   ]
  },
  {
   "cell_type": "markdown",
   "id": "79deab34",
   "metadata": {},
   "source": [
    "We have tested here the following hypothesis:\n",
    "\n",
    "$$ H_0:\\,\\mbox{ the averages of the grades in Q1 and Q2 are equal}$$\n",
    "versus \n",
    "$$ H_0:\\,\\mbox{ the averages of the grades in Q1 and Q2 are different}$$\n",
    "\n"
   ]
  },
  {
   "cell_type": "markdown",
   "id": "138bcbf4",
   "metadata": {},
   "source": [
    "We used a paired t-test and we can conclude that $H_0$ can't be rejected since the p-value is greater than 0.05 (5%) (the given level of significance). "
   ]
  },
  {
   "cell_type": "markdown",
   "id": "fe8c7798",
   "metadata": {},
   "source": [
    "We can test also if the mean $\\mu_1$ of the grades of the Quiz 1 is higher than the mean $\\mu_2$ of the grades of the Quiz 2: \n",
    "\n",
    "$$ H_0: \\, \\mu_1\\geq \\mu_2$$\n",
    "versus\n",
    "$$ H_1:\\, \\mu_1<\\mu_2 $$"
   ]
  },
  {
   "cell_type": "code",
   "execution_count": 30,
   "id": "04a72809",
   "metadata": {},
   "outputs": [],
   "source": [
    "test_diffmean1a=ttest_rel(df['Quiz 1'],df['Quiz 2'],alternative='less')"
   ]
  },
  {
   "cell_type": "code",
   "execution_count": 31,
   "id": "b8d977c9",
   "metadata": {},
   "outputs": [
    {
     "data": {
      "text/plain": [
       "-1.1156139485204906"
      ]
     },
     "execution_count": 31,
     "metadata": {},
     "output_type": "execute_result"
    }
   ],
   "source": [
    "test_diffmean1a.statistic"
   ]
  },
  {
   "cell_type": "code",
   "execution_count": 32,
   "id": "ea14510a",
   "metadata": {},
   "outputs": [
    {
     "data": {
      "text/plain": [
       "0.13507079858219584"
      ]
     },
     "execution_count": 32,
     "metadata": {},
     "output_type": "execute_result"
    }
   ],
   "source": [
    "test_diffmean1a.pvalue"
   ]
  },
  {
   "cell_type": "markdown",
   "id": "144f1242",
   "metadata": {},
   "source": [
    "Conclusion: $H_0$ can't be rejected "
   ]
  },
  {
   "cell_type": "code",
   "execution_count": 33,
   "id": "286f3051",
   "metadata": {},
   "outputs": [],
   "source": [
    "test_diffmean1b=ttest_rel(df['Quiz 1'],df['Quiz 2'],alternative='greater')"
   ]
  },
  {
   "cell_type": "code",
   "execution_count": 34,
   "id": "9bf7f15a",
   "metadata": {},
   "outputs": [
    {
     "data": {
      "text/plain": [
       "0.8649292014178042"
      ]
     },
     "execution_count": 34,
     "metadata": {},
     "output_type": "execute_result"
    }
   ],
   "source": [
    "test_diffmean1b.pvalue"
   ]
  },
  {
   "cell_type": "markdown",
   "id": "7300ad12",
   "metadata": {},
   "source": [
    "#### A two-sample t-test"
   ]
  },
  {
   "cell_type": "markdown",
   "id": "5dd5e8cc",
   "metadata": {},
   "source": [
    "We will compare now the mean of the Quiz 1 between Section 1 and 2"
   ]
  },
  {
   "cell_type": "code",
   "execution_count": 35,
   "id": "229fd5f3",
   "metadata": {},
   "outputs": [
    {
     "data": {
      "text/plain": [
       "0     17.5\n",
       "1     16.5\n",
       "5     14.0\n",
       "9     14.0\n",
       "11    10.5\n",
       "12    16.5\n",
       "13    14.5\n",
       "14    14.5\n",
       "15     8.0\n",
       "16    14.5\n",
       "18    11.0\n",
       "20    18.5\n",
       "22    10.5\n",
       "23    10.0\n",
       "28    15.0\n",
       "29    18.0\n",
       "32    14.0\n",
       "36    11.0\n",
       "37    15.0\n",
       "41    14.0\n",
       "44    16.0\n",
       "45    10.5\n",
       "46    16.5\n",
       "48    17.5\n",
       "50    14.5\n",
       "51    16.5\n",
       "Name: Quiz 1, dtype: float64"
      ]
     },
     "execution_count": 35,
     "metadata": {},
     "output_type": "execute_result"
    }
   ],
   "source": [
    "x1=df['Quiz 1'].loc[df['Section  ']=='Section 1']\n",
    "x1"
   ]
  },
  {
   "cell_type": "code",
   "execution_count": 36,
   "id": "8568b17c",
   "metadata": {},
   "outputs": [
    {
     "data": {
      "text/plain": [
       "2     12.5\n",
       "3     10.5\n",
       "4      5.5\n",
       "7     15.0\n",
       "8     17.0\n",
       "10    11.0\n",
       "17    14.0\n",
       "19    17.0\n",
       "21    14.0\n",
       "24    11.0\n",
       "25    15.0\n",
       "26    16.0\n",
       "27    19.5\n",
       "30    14.5\n",
       "31    18.5\n",
       "33    11.5\n",
       "34    10.0\n",
       "35    20.0\n",
       "38    18.5\n",
       "40     9.5\n",
       "43    13.0\n",
       "47    10.5\n",
       "49    13.5\n",
       "Name: Quiz 1, dtype: float64"
      ]
     },
     "execution_count": 36,
     "metadata": {},
     "output_type": "execute_result"
    }
   ],
   "source": [
    "x2=df['Quiz 1'].loc[df['Section  ']=='Section 2']\n",
    "x2"
   ]
  },
  {
   "cell_type": "code",
   "execution_count": 37,
   "id": "b421cb8e",
   "metadata": {},
   "outputs": [],
   "source": [
    "from scipy.stats import ttest_ind\n",
    "test_diffmean2=ttest_ind(x1,x2)"
   ]
  },
  {
   "cell_type": "code",
   "execution_count": 38,
   "id": "c69afafc",
   "metadata": {},
   "outputs": [
    {
     "data": {
      "text/plain": [
       "0.4200033340360798"
      ]
     },
     "execution_count": 38,
     "metadata": {},
     "output_type": "execute_result"
    }
   ],
   "source": [
    "test_diffmean2.statistic"
   ]
  },
  {
   "cell_type": "code",
   "execution_count": 39,
   "id": "b5b87f43",
   "metadata": {},
   "outputs": [
    {
     "data": {
      "text/plain": [
       "0.6763969243532744"
      ]
     },
     "execution_count": 39,
     "metadata": {},
     "output_type": "execute_result"
    }
   ],
   "source": [
    "test_diffmean2.pvalue"
   ]
  },
  {
   "cell_type": "markdown",
   "id": "bd67e3f1",
   "metadata": {},
   "source": [
    "We conclude that both sections have the same means of the grades in Quiz 1."
   ]
  },
  {
   "cell_type": "markdown",
   "id": "a070bd86",
   "metadata": {},
   "source": [
    "### Testing the proportion"
   ]
  },
  {
   "cell_type": "markdown",
   "id": "2cdf8e30",
   "metadata": {},
   "source": [
    "#### The theory "
   ]
  },
  {
   "cell_type": "markdown",
   "id": "a74ff4f9",
   "metadata": {},
   "source": [
    "Assume that we would like to test the following Hypothesis:\n",
    "$$H_0\\,: \\,\\,p=p_0,\\;\\; \\mbox{ versus }H_1\\,:\\,\\, p\\not=p_0$$"
   ]
  },
  {
   "cell_type": "markdown",
   "id": "a51a200e",
   "metadata": {},
   "source": [
    "where $p$ is a parameter proportion and $p_0$ is a given value of $p$. The hypothesis $H_0$ (null hypothesis) and $H_1$ will be tested from a given data on a random sample $X_1,\\ldots, X_n$ with a Bernoulli distribution. The random variables $X_1,\\ldots, X_n$ are binary variable with values $1$ and $0$ where each random variable $X_i$ takes the value 1 with probability $p$. \n",
    "\n",
    "In most of the cases the data reported in this type of tests is the number $X$ of success among the $n$ trials. This later random variable $X$ is defined as follows:\n",
    "$$ X=X_1+\\ldots+X_n=\\sum_{k=1}^n X_k$$\n",
    "and has a Binomial distribution with size $n$ and probability $p$. \n",
    "\n",
    "The probability $p$ is often estimated using the random variable $\\widehat{p}$:\n",
    "\n",
    "$$\\widehat{p}=\\displaystyle\\frac{X}{n}.$$\n",
    "\n",
    "When $n$ is large ($\\geq 30$), the random variable $\\widehat{p}$ follows approximatively a Normal distribution:\n",
    "\n",
    "$$\\widehat{p}\\sim \\mathcal{N}\\left(p, \\displaystyle\\frac{p(1-p)}{n}\\right).$$\n",
    "\n",
    "Hence the  random variable $Z=\\sqrt{n}\\displaystyle\\frac{\\widehat{p}-p}{\\sqrt{\\widehat{p}(1-\\widehat{p})}}$  follows approximately a standard normal distribution.  \n",
    "\n",
    "The random variable $Z$ will be the test statistic of the the proportion hypothesis testing. "
   ]
  },
  {
   "cell_type": "markdown",
   "id": "9228e996",
   "metadata": {},
   "source": [
    "**Example:** According to the Washington Post, nearly 45% of all Americans are born with brown eyes,\n",
    "although their eyes don't necessarily stay brown. A random sample of 80 adults found 32\n",
    "with brown eyes. Is there sufficient evidence at the .01 level to indicate that the proportion of\n",
    "brown-eyed adults differs from the proportion of Americans who are born with brown eyes?"
   ]
  },
  {
   "cell_type": "markdown",
   "id": "2af67650",
   "metadata": {},
   "source": [
    "In this example the sample size $n=80$, the random sample is $X_1,\\ldots,X_n$ where each $X_i$ is  representing an American  adult, $X_i$ is $1$ if this adult has  brown eyes and $0$ elsewhere. The random variable $X$ is the number of Americans with brown eyes among the 80 surveyed adults. In this example the observed of $X$ is 32. "
   ]
  },
  {
   "cell_type": "markdown",
   "id": "99a9a971",
   "metadata": {},
   "source": [
    "We are testing here the following two hypothesis:\n",
    "    \n",
    "   + Null Hypothesis: $H_0\\,:\\, p=.45$\n",
    "   + Alternative Hypothesis $H_1\\,:\\, p\\not=.45$"
   ]
  },
  {
   "cell_type": "markdown",
   "id": "ae28f407",
   "metadata": {},
   "source": [
    "Under the hypothesis $H_0$ ($p=.45$), the random variable $Z$ is equal to:\n",
    "    $$Z=\\sqrt{80}\\displaystyle\\frac{\\widehat{p}-.45}{\\sqrt{.4\\times .6}}$$"
   ]
  },
  {
   "cell_type": "markdown",
   "id": "87a936f5",
   "metadata": {},
   "source": [
    "The observed value of $\\widehat{p}$ from the data is: \n",
    "$$\\widehat{p}_{\\mbox{obs}}=\\displaystyle\\frac{32}{80}=.4$$"
   ]
  },
  {
   "cell_type": "markdown",
   "id": "f9025c01",
   "metadata": {},
   "source": [
    "Then the observed value of $Z$ is \n",
    "$$Z_{\\mbox{obs}}=\\sqrt{80}\\displaystyle\\frac{.4-.45}{\\sqrt{.4\\times .6}}=-0.913$$"
   ]
  },
  {
   "cell_type": "markdown",
   "id": "3eb40776",
   "metadata": {},
   "source": [
    "Since the alternative hypothesis is $H_1\\,:\\, p\\not=.45$. The test is called two-sided test and the p-value of the test is computed as follows: \n",
    "\n",
    "$$\\begin{array}{rcl}\n",
    "\\mbox{p-value}& = & \\mathbb{P}\\left(|Z|\\geq |z_\\mbox{obs}| \\mid H_0 \\mbox{ true }\\right)\\\\\n",
    "  & = & \\mathbb{P}\\left(|Z|\\geq 0.913 \\mid p=.45\\right) \\\\\n",
    "  & = & 2\\times (1-F_Z(0.913)) \\\\\n",
    "  & = & 0.361 \n",
    "\\end{array}$$\n",
    "\n",
    "where $F_Z$ is a cumulative probability function (CDF) of a standard normal distribution. "
   ]
  },
  {
   "cell_type": "markdown",
   "id": "627df84d",
   "metadata": {},
   "source": [
    "Since $1\\%=0.01$ is the level of significance of the test, and the p-value is greater than $1\\%$, we can decide to not reject the null hypothesis $H_0$. "
   ]
  },
  {
   "cell_type": "markdown",
   "id": "445e17e2",
   "metadata": {},
   "source": [
    "#### Practice with Python "
   ]
  },
  {
   "cell_type": "code",
   "execution_count": 40,
   "id": "e661b27d",
   "metadata": {},
   "outputs": [],
   "source": [
    "import numpy as np\n",
    "from statsmodels.stats.proportion import proportions_ztest"
   ]
  },
  {
   "cell_type": "code",
   "execution_count": 41,
   "id": "cbc3a28a",
   "metadata": {},
   "outputs": [],
   "source": [
    "stat, pvalue=proportions_ztest(count=32, nobs=80, value=.45, alternative='two-sided')"
   ]
  },
  {
   "cell_type": "code",
   "execution_count": 42,
   "id": "d152aba1",
   "metadata": {},
   "outputs": [
    {
     "data": {
      "text/plain": [
       "-0.9128709291752767"
      ]
     },
     "execution_count": 42,
     "metadata": {},
     "output_type": "execute_result"
    }
   ],
   "source": [
    "stat"
   ]
  },
  {
   "cell_type": "code",
   "execution_count": 43,
   "id": "67a44bb9",
   "metadata": {},
   "outputs": [
    {
     "data": {
      "text/plain": [
       "0.3613104285261789"
      ]
     },
     "execution_count": 43,
     "metadata": {},
     "output_type": "execute_result"
    }
   ],
   "source": [
    "pvalue"
   ]
  },
  {
   "cell_type": "code",
   "execution_count": 44,
   "id": "4ebb1c78",
   "metadata": {},
   "outputs": [
    {
     "data": {
      "text/plain": [
       "0.4"
      ]
     },
     "execution_count": 44,
     "metadata": {},
     "output_type": "execute_result"
    }
   ],
   "source": [
    "phat=32/80\n",
    "phat"
   ]
  },
  {
   "cell_type": "code",
   "execution_count": 45,
   "id": "916f4429",
   "metadata": {},
   "outputs": [
    {
     "data": {
      "text/plain": [
       "-0.9128709291752768"
      ]
     },
     "execution_count": 45,
     "metadata": {},
     "output_type": "execute_result"
    }
   ],
   "source": [
    "Zscore=np.sqrt(80)*(phat-.45)/np.sqrt(.4*.6)\n",
    "Zscore"
   ]
  },
  {
   "cell_type": "code",
   "execution_count": 46,
   "id": "7f92b411",
   "metadata": {},
   "outputs": [],
   "source": [
    "from scipy.stats import norm,t"
   ]
  },
  {
   "cell_type": "code",
   "execution_count": 47,
   "id": "7baadb1b",
   "metadata": {},
   "outputs": [
    {
     "data": {
      "text/plain": [
       "0.361310428526179"
      ]
     },
     "execution_count": 47,
     "metadata": {},
     "output_type": "execute_result"
    }
   ],
   "source": [
    "2*(1-norm.cdf(np.abs(Zscore),loc=0,scale=1))"
   ]
  },
  {
   "cell_type": "markdown",
   "id": "43d7ba3c",
   "metadata": {},
   "source": [
    "#### Other types of alternative hypothesis "
   ]
  },
  {
   "cell_type": "markdown",
   "id": "3cb19319",
   "metadata": {},
   "source": [
    "The alternative hypothesis $H_1$ can be also one the following:\n",
    "   + $H_1\\,:\\, p< p_0$: `alternatine='smaller'`\n",
    "   + $H_1\\,:\\, p>  p_0$: `alternatine='larger'`\n",
    "            "
   ]
  },
  {
   "cell_type": "markdown",
   "id": "8b9ccdad",
   "metadata": {},
   "source": [
    "In case of `alternatine='less'` we proceed as follows: "
   ]
  },
  {
   "cell_type": "code",
   "execution_count": 48,
   "id": "b28739c9",
   "metadata": {},
   "outputs": [],
   "source": [
    "stat, pvalue=proportions_ztest(count=32, nobs=80, value=.45, alternative='smaller')"
   ]
  },
  {
   "cell_type": "code",
   "execution_count": 49,
   "id": "c5e30abb",
   "metadata": {},
   "outputs": [
    {
     "data": {
      "text/plain": [
       "-0.9128709291752767"
      ]
     },
     "execution_count": 49,
     "metadata": {},
     "output_type": "execute_result"
    }
   ],
   "source": [
    "stat"
   ]
  },
  {
   "cell_type": "code",
   "execution_count": 50,
   "id": "c471e5ae",
   "metadata": {},
   "outputs": [
    {
     "data": {
      "text/plain": [
       "0.18065521426308945"
      ]
     },
     "execution_count": 50,
     "metadata": {},
     "output_type": "execute_result"
    }
   ],
   "source": [
    "pvalue"
   ]
  },
  {
   "cell_type": "markdown",
   "id": "648dc836",
   "metadata": {},
   "source": [
    "The pvalue is computed as follows"
   ]
  },
  {
   "cell_type": "code",
   "execution_count": 51,
   "id": "9f9a64c4",
   "metadata": {},
   "outputs": [
    {
     "data": {
      "text/plain": [
       "0.18065521426308945"
      ]
     },
     "execution_count": 51,
     "metadata": {},
     "output_type": "execute_result"
    }
   ],
   "source": [
    "norm.cdf(stat,0,1)"
   ]
  },
  {
   "cell_type": "markdown",
   "id": "1100466e",
   "metadata": {},
   "source": [
    "In case of `alternatine='larger'` we proceed as follows: "
   ]
  },
  {
   "cell_type": "code",
   "execution_count": 52,
   "id": "771515fc",
   "metadata": {},
   "outputs": [],
   "source": [
    "stat, pvalue=proportions_ztest(count=32, nobs=80, value=.45, alternative='larger')"
   ]
  },
  {
   "cell_type": "code",
   "execution_count": 53,
   "id": "52ef5614",
   "metadata": {},
   "outputs": [
    {
     "data": {
      "text/plain": [
       "-0.9128709291752767"
      ]
     },
     "execution_count": 53,
     "metadata": {},
     "output_type": "execute_result"
    }
   ],
   "source": [
    "stat"
   ]
  },
  {
   "cell_type": "code",
   "execution_count": 54,
   "id": "a3674a32",
   "metadata": {},
   "outputs": [
    {
     "data": {
      "text/plain": [
       "0.8193447857369105"
      ]
     },
     "execution_count": 54,
     "metadata": {},
     "output_type": "execute_result"
    }
   ],
   "source": [
    "pvalue"
   ]
  },
  {
   "cell_type": "markdown",
   "id": "eb7d34c9",
   "metadata": {},
   "source": [
    "The pvalue is computed as follows\n"
   ]
  },
  {
   "cell_type": "code",
   "execution_count": 55,
   "id": "086f1c65",
   "metadata": {},
   "outputs": [
    {
     "data": {
      "text/plain": [
       "0.8193447857369105"
      ]
     },
     "execution_count": 55,
     "metadata": {},
     "output_type": "execute_result"
    }
   ],
   "source": [
    "1-norm.cdf(stat,0,1)"
   ]
  },
  {
   "cell_type": "markdown",
   "id": "76175eb2",
   "metadata": {},
   "source": [
    "**Example:**  Pizza-Hut claims that 90% of its order are delivered within 10 minutes of the time the order is placed. A sample of 100 order revealed that 82 were delivered within the promised time. At 10% significance level, can we conclude that at maximum 90% of the orders are delivered in less than 10 minutes?"
   ]
  },
  {
   "cell_type": "markdown",
   "id": "09cf2f37",
   "metadata": {},
   "source": [
    "We are testing in this example the following hypothesis testing: "
   ]
  },
  {
   "cell_type": "markdown",
   "id": "5ed9e045",
   "metadata": {},
   "source": [
    "   + $H_0\\,:\\, p\\geq .90$\n",
    "   + $H_1\\,:\\, p <.90 $\n",
    "where $p$ is the proportion of the orders that are delivered within 10 minutes. "
   ]
  },
  {
   "cell_type": "markdown",
   "id": "686f2c24",
   "metadata": {},
   "source": [
    "We can also conclude that sample size is $n=100$ and the observed value for $X=92$. "
   ]
  },
  {
   "cell_type": "code",
   "execution_count": 56,
   "id": "631e5c2f",
   "metadata": {},
   "outputs": [],
   "source": [
    "stat, pvalue=proportions_ztest(count=82,nobs=100,value=.9,alternative='smaller')"
   ]
  },
  {
   "cell_type": "code",
   "execution_count": 57,
   "id": "8dc191a3",
   "metadata": {},
   "outputs": [
    {
     "data": {
      "text/plain": [
       "-2.0823168251814157"
      ]
     },
     "execution_count": 57,
     "metadata": {},
     "output_type": "execute_result"
    }
   ],
   "source": [
    "stat"
   ]
  },
  {
   "cell_type": "code",
   "execution_count": 58,
   "id": "2e20ccf7",
   "metadata": {},
   "outputs": [
    {
     "data": {
      "text/plain": [
       "0.018656770036782476"
      ]
     },
     "execution_count": 58,
     "metadata": {},
     "output_type": "execute_result"
    }
   ],
   "source": [
    "pvalue"
   ]
  },
  {
   "cell_type": "markdown",
   "id": "d6977712",
   "metadata": {},
   "source": [
    "The pvalue is computed as follows: "
   ]
  },
  {
   "cell_type": "code",
   "execution_count": 59,
   "id": "b9a0d882",
   "metadata": {},
   "outputs": [
    {
     "data": {
      "text/plain": [
       "0.018656770036782476"
      ]
     },
     "execution_count": 59,
     "metadata": {},
     "output_type": "execute_result"
    }
   ],
   "source": [
    "norm.cdf(stat,0,1)"
   ]
  },
  {
   "cell_type": "markdown",
   "id": "c9da43e2",
   "metadata": {},
   "source": [
    "**Example:** Of a sample of 361 owners of retail service and business firms that had gone into bankruptcy, 105 reported having no\n",
    "professional assistance prior to opening the business. It is claimed that at most 25% of all members of this population\n",
    "had no professional assistance before opening the business. Test the aforementioned claim at $\\alpha=0.01$"
   ]
  },
  {
   "cell_type": "markdown",
   "id": "ab5b9fb5",
   "metadata": {},
   "source": [
    "We're testing in this example the following hypothesis: "
   ]
  },
  {
   "cell_type": "markdown",
   "id": "888f71f9",
   "metadata": {},
   "source": [
    "   + $H_0\\,:\\, p\\geq .25$\n",
    "   + $H_1\\,:\\, p <.25 $\n",
    "where $p$ is the proportion of the  bankrupted retail service owners who claim that they have no professional assistance. \n",
    "\n",
    "We can also conclude that sample size is 𝑛=361 and the observed value for $X=105$."
   ]
  },
  {
   "cell_type": "code",
   "execution_count": 60,
   "id": "cc46c6ee",
   "metadata": {},
   "outputs": [],
   "source": [
    "stat, pvalue=proportions_ztest(count=105,nobs=361,value=.25,alternative='smaller')"
   ]
  },
  {
   "cell_type": "code",
   "execution_count": 61,
   "id": "043f9933",
   "metadata": {},
   "outputs": [
    {
     "data": {
      "text/plain": [
       "1.709349971523915"
      ]
     },
     "execution_count": 61,
     "metadata": {},
     "output_type": "execute_result"
    }
   ],
   "source": [
    "stat"
   ]
  },
  {
   "cell_type": "code",
   "execution_count": 62,
   "id": "e08629be",
   "metadata": {},
   "outputs": [
    {
     "data": {
      "text/plain": [
       "0.9563069289956099"
      ]
     },
     "execution_count": 62,
     "metadata": {},
     "output_type": "execute_result"
    }
   ],
   "source": [
    "pvalue"
   ]
  },
  {
   "cell_type": "markdown",
   "id": "88a40bc3",
   "metadata": {},
   "source": [
    "### Comparing two proportions"
   ]
  },
  {
   "cell_type": "markdown",
   "id": "203e72bb",
   "metadata": {},
   "source": [
    "Here we have two samples, defined by a proportion, and we want to see if we can make an assertion about whether the overall proportions of one of the underlying populations is greater than / less than / different to the other."
   ]
  },
  {
   "cell_type": "markdown",
   "id": "5a37a8cb",
   "metadata": {},
   "source": [
    "**Example:** we want to compare two different populations to see how their tests relate to each other:\n",
    "\n",
    "   + We have two samples  A and B. Our null hypothesis is that the proportions from the two populations are the same\n",
    "   $$ H_0\\,:\\, p_A=p_B$$\n",
    "   + Our alternative hypothesis is that the proportions from the two populations are different\n",
    "   $$ H_1\\,:\\, p_A\\not=p_B$$\n",
    "   +  From the  population $A$ we sampled $n_A=500$ tests and found $X_A=410$ passed\n",
    "   + From the other population $B$, we sampled $n_B=400$ tests and found $X_B=379$ passed\n",
    "   + We use a 2-sample z-test to check if the sample allows us to accept or reject the null hypothesis\n",
    "   \n",
    " We will use for this test statistic the following hypothesis testing:\n",
    " \n",
    " $$Z=\\displaystyle\\frac{\\widehat{p}_A-\\widehat{p}_B}{S_p}$$"
   ]
  },
  {
   "cell_type": "markdown",
   "id": "aaef1d79",
   "metadata": {},
   "source": [
    "Where $S_p$, called the **pooled standard error**, is computed as follows: \n",
    "$$ S_p=\\sqrt{\\widehat{p}(1-\\widehat{p})\\times \\left(\\displaystyle\\frac{1}{n_A}+\\displaystyle\\frac{1}{n_B}\\right)}$$\n",
    "and \n",
    "$$\\widehat{p}=\\displaystyle\\frac{n_A\\widehat{p}_A+n_B\\widehat{p}_B}{n_A+n_B}$$\n",
    "is the pooled proportion."
   ]
  },
  {
   "cell_type": "markdown",
   "id": "644d9211",
   "metadata": {},
   "source": [
    "Let $z_\\mbox{obs}$ be the observed value of $Z$ under $H_0$. The pvalue associated to the two-sided alternative test can be computed as follows: \n",
    "$$\\mbox{pvalue}=\\mathbb{P}\\left(|Z|\\geq |z_\\mbox{obs}|\\mid H_0\\mbox{ true }\\right)$$\n",
    "and the test statistic follows approximately the standard normal distribution. "
   ]
  },
  {
   "cell_type": "markdown",
   "id": "5e9195b5",
   "metadata": {},
   "source": [
    "In Python we proceed as follows: "
   ]
  },
  {
   "cell_type": "code",
   "execution_count": 63,
   "id": "e4701386",
   "metadata": {},
   "outputs": [],
   "source": [
    "from statsmodels.stats.proportion import proportions_ztest\n",
    "import numpy as np\n",
    "from scipy.stats import norm,t"
   ]
  },
  {
   "cell_type": "code",
   "execution_count": 64,
   "id": "646c7ab5",
   "metadata": {},
   "outputs": [],
   "source": [
    "sample_success_a, sample_size_a = (410, 500)\n",
    "sample_success_b, sample_size_b = (379, 400)"
   ]
  },
  {
   "cell_type": "markdown",
   "id": "a0c8093c",
   "metadata": {},
   "source": [
    "We create Python arrays for the number of successes and for the sample sizes. "
   ]
  },
  {
   "cell_type": "code",
   "execution_count": 65,
   "id": "e699cb8d",
   "metadata": {},
   "outputs": [],
   "source": [
    "successes = np.array([sample_success_a, sample_success_b])\n",
    "samples = np.array([sample_size_a, sample_size_b])\n"
   ]
  },
  {
   "cell_type": "code",
   "execution_count": 66,
   "id": "00c428f3",
   "metadata": {},
   "outputs": [
    {
     "data": {
      "text/plain": [
       "array([410, 379])"
      ]
     },
     "execution_count": 66,
     "metadata": {},
     "output_type": "execute_result"
    }
   ],
   "source": [
    "successes"
   ]
  },
  {
   "cell_type": "code",
   "execution_count": 67,
   "id": "33217dc9",
   "metadata": {},
   "outputs": [
    {
     "data": {
      "text/plain": [
       "array([500, 400])"
      ]
     },
     "execution_count": 67,
     "metadata": {},
     "output_type": "execute_result"
    }
   ],
   "source": [
    "samples"
   ]
  },
  {
   "cell_type": "code",
   "execution_count": 68,
   "id": "31e67d91",
   "metadata": {},
   "outputs": [],
   "source": [
    "stat, pvalue = proportions_ztest(count=successes, nobs=samples,  alternative='two-sided')"
   ]
  },
  {
   "cell_type": "code",
   "execution_count": 69,
   "id": "5ed0c729",
   "metadata": {},
   "outputs": [
    {
     "data": {
      "text/plain": [
       "-5.7802476568050825"
      ]
     },
     "execution_count": 69,
     "metadata": {},
     "output_type": "execute_result"
    }
   ],
   "source": [
    "stat"
   ]
  },
  {
   "cell_type": "code",
   "execution_count": 70,
   "id": "d91f3c8a",
   "metadata": {},
   "outputs": [
    {
     "data": {
      "text/plain": [
       "7.459074060078635e-09"
      ]
     },
     "execution_count": 70,
     "metadata": {},
     "output_type": "execute_result"
    }
   ],
   "source": [
    "pvalue"
   ]
  },
  {
   "cell_type": "markdown",
   "id": "a757f875",
   "metadata": {},
   "source": [
    "Let's see now how the test statistic and the pvalue are computed "
   ]
  },
  {
   "cell_type": "code",
   "execution_count": 71,
   "id": "0ce1193e",
   "metadata": {},
   "outputs": [
    {
     "data": {
      "text/plain": [
       "0.8766666666666667"
      ]
     },
     "execution_count": 71,
     "metadata": {},
     "output_type": "execute_result"
    }
   ],
   "source": [
    "p_pooled=successes.sum()/samples.sum()\n",
    "p_pooled"
   ]
  },
  {
   "cell_type": "code",
   "execution_count": 72,
   "id": "e472833d",
   "metadata": {},
   "outputs": [
    {
     "data": {
      "text/plain": [
       "0.02205787841112558"
      ]
     },
     "execution_count": 72,
     "metadata": {},
     "output_type": "execute_result"
    }
   ],
   "source": [
    "Sp=np.sqrt(p_pooled*(1-p_pooled)*(np.sum(1/samples)))\n",
    "Sp"
   ]
  },
  {
   "cell_type": "code",
   "execution_count": 73,
   "id": "1e5e5020",
   "metadata": {},
   "outputs": [
    {
     "data": {
      "text/plain": [
       "-5.7802476568050825"
      ]
     },
     "execution_count": 73,
     "metadata": {},
     "output_type": "execute_result"
    }
   ],
   "source": [
    "zscore = (successes[0]/samples[0]-successes[1]/samples[1])/Sp\n",
    "zscore"
   ]
  },
  {
   "cell_type": "code",
   "execution_count": 74,
   "id": "46ab0fed",
   "metadata": {},
   "outputs": [
    {
     "data": {
      "text/plain": [
       "-5.7802476568050825"
      ]
     },
     "execution_count": 74,
     "metadata": {},
     "output_type": "execute_result"
    }
   ],
   "source": [
    "stat"
   ]
  },
  {
   "cell_type": "code",
   "execution_count": 75,
   "id": "bf6690a6",
   "metadata": {},
   "outputs": [
    {
     "data": {
      "text/plain": [
       "7.459074025106815e-09"
      ]
     },
     "execution_count": 75,
     "metadata": {},
     "output_type": "execute_result"
    }
   ],
   "source": [
    "pv=2*(1-norm.cdf(np.abs(zscore),0,1))\n",
    "pv"
   ]
  },
  {
   "cell_type": "code",
   "execution_count": 76,
   "id": "0655eb8b",
   "metadata": {},
   "outputs": [
    {
     "data": {
      "text/plain": [
       "7.459074060078635e-09"
      ]
     },
     "execution_count": 76,
     "metadata": {},
     "output_type": "execute_result"
    }
   ],
   "source": [
    "pvalue "
   ]
  },
  {
   "cell_type": "markdown",
   "id": "df431025",
   "metadata": {},
   "source": [
    "**Example:** Let's consider the `Titanic` data  "
   ]
  },
  {
   "cell_type": "code",
   "execution_count": 77,
   "id": "a1644cc0",
   "metadata": {},
   "outputs": [],
   "source": [
    "import numpy as np\n",
    "import pandas as pd\n",
    "import scipy.stats.distributions as dist"
   ]
  },
  {
   "cell_type": "markdown",
   "id": "d3c15ed7",
   "metadata": {},
   "source": [
    "Importing the data "
   ]
  },
  {
   "cell_type": "code",
   "execution_count": 78,
   "id": "cb7d5252",
   "metadata": {},
   "outputs": [],
   "source": [
    "df= pd.read_csv('titanic.csv')"
   ]
  },
  {
   "cell_type": "code",
   "execution_count": 79,
   "id": "1c635af8",
   "metadata": {},
   "outputs": [
    {
     "data": {
      "text/html": [
       "<div>\n",
       "<style scoped>\n",
       "    .dataframe tbody tr th:only-of-type {\n",
       "        vertical-align: middle;\n",
       "    }\n",
       "\n",
       "    .dataframe tbody tr th {\n",
       "        vertical-align: top;\n",
       "    }\n",
       "\n",
       "    .dataframe thead th {\n",
       "        text-align: right;\n",
       "    }\n",
       "</style>\n",
       "<table border=\"1\" class=\"dataframe\">\n",
       "  <thead>\n",
       "    <tr style=\"text-align: right;\">\n",
       "      <th></th>\n",
       "      <th>PassengerId</th>\n",
       "      <th>Survived</th>\n",
       "      <th>Pclass</th>\n",
       "      <th>Name</th>\n",
       "      <th>Sex</th>\n",
       "      <th>Age</th>\n",
       "      <th>SibSp</th>\n",
       "      <th>Parch</th>\n",
       "      <th>Ticket</th>\n",
       "      <th>Fare</th>\n",
       "      <th>Cabin</th>\n",
       "      <th>Embarked</th>\n",
       "    </tr>\n",
       "  </thead>\n",
       "  <tbody>\n",
       "    <tr>\n",
       "      <th>0</th>\n",
       "      <td>1</td>\n",
       "      <td>0</td>\n",
       "      <td>3</td>\n",
       "      <td>Braund, Mr. Owen Harris</td>\n",
       "      <td>male</td>\n",
       "      <td>22.0</td>\n",
       "      <td>1</td>\n",
       "      <td>0</td>\n",
       "      <td>A/5 21171</td>\n",
       "      <td>7.2500</td>\n",
       "      <td>NaN</td>\n",
       "      <td>S</td>\n",
       "    </tr>\n",
       "    <tr>\n",
       "      <th>1</th>\n",
       "      <td>2</td>\n",
       "      <td>1</td>\n",
       "      <td>1</td>\n",
       "      <td>Cumings, Mrs. John Bradley (Florence Briggs Th...</td>\n",
       "      <td>female</td>\n",
       "      <td>38.0</td>\n",
       "      <td>1</td>\n",
       "      <td>0</td>\n",
       "      <td>PC 17599</td>\n",
       "      <td>71.2833</td>\n",
       "      <td>C85</td>\n",
       "      <td>C</td>\n",
       "    </tr>\n",
       "    <tr>\n",
       "      <th>2</th>\n",
       "      <td>3</td>\n",
       "      <td>1</td>\n",
       "      <td>3</td>\n",
       "      <td>Heikkinen, Miss. Laina</td>\n",
       "      <td>female</td>\n",
       "      <td>26.0</td>\n",
       "      <td>0</td>\n",
       "      <td>0</td>\n",
       "      <td>STON/O2. 3101282</td>\n",
       "      <td>7.9250</td>\n",
       "      <td>NaN</td>\n",
       "      <td>S</td>\n",
       "    </tr>\n",
       "    <tr>\n",
       "      <th>3</th>\n",
       "      <td>4</td>\n",
       "      <td>1</td>\n",
       "      <td>1</td>\n",
       "      <td>Futrelle, Mrs. Jacques Heath (Lily May Peel)</td>\n",
       "      <td>female</td>\n",
       "      <td>35.0</td>\n",
       "      <td>1</td>\n",
       "      <td>0</td>\n",
       "      <td>113803</td>\n",
       "      <td>53.1000</td>\n",
       "      <td>C123</td>\n",
       "      <td>S</td>\n",
       "    </tr>\n",
       "    <tr>\n",
       "      <th>4</th>\n",
       "      <td>5</td>\n",
       "      <td>0</td>\n",
       "      <td>3</td>\n",
       "      <td>Allen, Mr. William Henry</td>\n",
       "      <td>male</td>\n",
       "      <td>35.0</td>\n",
       "      <td>0</td>\n",
       "      <td>0</td>\n",
       "      <td>373450</td>\n",
       "      <td>8.0500</td>\n",
       "      <td>NaN</td>\n",
       "      <td>S</td>\n",
       "    </tr>\n",
       "  </tbody>\n",
       "</table>\n",
       "</div>"
      ],
      "text/plain": [
       "   PassengerId  Survived  Pclass  \\\n",
       "0            1         0       3   \n",
       "1            2         1       1   \n",
       "2            3         1       3   \n",
       "3            4         1       1   \n",
       "4            5         0       3   \n",
       "\n",
       "                                                Name     Sex   Age  SibSp  \\\n",
       "0                            Braund, Mr. Owen Harris    male  22.0      1   \n",
       "1  Cumings, Mrs. John Bradley (Florence Briggs Th...  female  38.0      1   \n",
       "2                             Heikkinen, Miss. Laina  female  26.0      0   \n",
       "3       Futrelle, Mrs. Jacques Heath (Lily May Peel)  female  35.0      1   \n",
       "4                           Allen, Mr. William Henry    male  35.0      0   \n",
       "\n",
       "   Parch            Ticket     Fare Cabin Embarked  \n",
       "0      0         A/5 21171   7.2500   NaN        S  \n",
       "1      0          PC 17599  71.2833   C85        C  \n",
       "2      0  STON/O2. 3101282   7.9250   NaN        S  \n",
       "3      0            113803  53.1000  C123        S  \n",
       "4      0            373450   8.0500   NaN        S  "
      ]
     },
     "execution_count": 79,
     "metadata": {},
     "output_type": "execute_result"
    }
   ],
   "source": [
    "df.head()"
   ]
  },
  {
   "cell_type": "code",
   "execution_count": 80,
   "id": "159d729b",
   "metadata": {},
   "outputs": [
    {
     "data": {
      "text/plain": [
       "(1309, 12)"
      ]
     },
     "execution_count": 80,
     "metadata": {},
     "output_type": "execute_result"
    }
   ],
   "source": [
    "df.shape"
   ]
  },
  {
   "cell_type": "markdown",
   "id": "e0e0c642",
   "metadata": {},
   "source": [
    "We encode then the variable Survived"
   ]
  },
  {
   "cell_type": "code",
   "execution_count": 81,
   "id": "cca8d213",
   "metadata": {},
   "outputs": [
    {
     "data": {
      "text/plain": [
       "0    815\n",
       "1    494\n",
       "Name: Survived, dtype: int64"
      ]
     },
     "execution_count": 81,
     "metadata": {},
     "output_type": "execute_result"
    }
   ],
   "source": [
    "df['Survived'].value_counts()"
   ]
  },
  {
   "cell_type": "code",
   "execution_count": 82,
   "id": "fa79181b",
   "metadata": {},
   "outputs": [],
   "source": [
    "df['Survived'] = df['Survived'].map({1:'Survived',0:'Not Survived'})"
   ]
  },
  {
   "cell_type": "code",
   "execution_count": 83,
   "id": "c5661be4",
   "metadata": {},
   "outputs": [
    {
     "data": {
      "text/plain": [
       "Not Survived    815\n",
       "Survived        494\n",
       "Name: Survived, dtype: int64"
      ]
     },
     "execution_count": 83,
     "metadata": {},
     "output_type": "execute_result"
    }
   ],
   "source": [
    "df['Survived'].value_counts()"
   ]
  },
  {
   "cell_type": "markdown",
   "id": "8da33ba4",
   "metadata": {},
   "source": [
    "We select `Sex` and `Survived` variables."
   ]
  },
  {
   "cell_type": "code",
   "execution_count": 84,
   "id": "e26bcf86",
   "metadata": {},
   "outputs": [],
   "source": [
    "df1=df[['Sex','Survived']]"
   ]
  },
  {
   "cell_type": "code",
   "execution_count": 85,
   "id": "3aefb1bd",
   "metadata": {},
   "outputs": [
    {
     "data": {
      "text/plain": [
       "(1309, 2)"
      ]
     },
     "execution_count": 85,
     "metadata": {},
     "output_type": "execute_result"
    }
   ],
   "source": [
    "df1.shape"
   ]
  },
  {
   "cell_type": "code",
   "execution_count": 86,
   "id": "8cd08e21",
   "metadata": {},
   "outputs": [],
   "source": [
    "df1=df1.dropna()"
   ]
  },
  {
   "cell_type": "code",
   "execution_count": 87,
   "id": "230d298c",
   "metadata": {},
   "outputs": [
    {
     "data": {
      "text/plain": [
       "(1309, 2)"
      ]
     },
     "execution_count": 87,
     "metadata": {},
     "output_type": "execute_result"
    }
   ],
   "source": [
    "df1.shape"
   ]
  },
  {
   "cell_type": "code",
   "execution_count": 88,
   "id": "9fef332d",
   "metadata": {},
   "outputs": [
    {
     "data": {
      "text/html": [
       "<div>\n",
       "<style scoped>\n",
       "    .dataframe tbody tr th:only-of-type {\n",
       "        vertical-align: middle;\n",
       "    }\n",
       "\n",
       "    .dataframe tbody tr th {\n",
       "        vertical-align: top;\n",
       "    }\n",
       "\n",
       "    .dataframe thead th {\n",
       "        text-align: right;\n",
       "    }\n",
       "</style>\n",
       "<table border=\"1\" class=\"dataframe\">\n",
       "  <thead>\n",
       "    <tr style=\"text-align: right;\">\n",
       "      <th>Sex</th>\n",
       "      <th>female</th>\n",
       "      <th>male</th>\n",
       "    </tr>\n",
       "    <tr>\n",
       "      <th>Survived</th>\n",
       "      <th></th>\n",
       "      <th></th>\n",
       "    </tr>\n",
       "  </thead>\n",
       "  <tbody>\n",
       "    <tr>\n",
       "      <th>Not Survived</th>\n",
       "      <td>81</td>\n",
       "      <td>734</td>\n",
       "    </tr>\n",
       "    <tr>\n",
       "      <th>Survived</th>\n",
       "      <td>385</td>\n",
       "      <td>109</td>\n",
       "    </tr>\n",
       "  </tbody>\n",
       "</table>\n",
       "</div>"
      ],
      "text/plain": [
       "Sex           female  male\n",
       "Survived                  \n",
       "Not Survived      81   734\n",
       "Survived         385   109"
      ]
     },
     "execution_count": 88,
     "metadata": {},
     "output_type": "execute_result"
    }
   ],
   "source": [
    "tab=pd.crosstab(df1.Survived,df1.Sex)\n",
    "tab"
   ]
  },
  {
   "cell_type": "code",
   "execution_count": 89,
   "id": "39691d75",
   "metadata": {},
   "outputs": [],
   "source": [
    "tab=np.array(tab)"
   ]
  },
  {
   "cell_type": "code",
   "execution_count": 90,
   "id": "9a3925fc",
   "metadata": {},
   "outputs": [
    {
     "data": {
      "text/plain": [
       "array([[ 81, 734],\n",
       "       [385, 109]], dtype=int64)"
      ]
     },
     "execution_count": 90,
     "metadata": {},
     "output_type": "execute_result"
    }
   ],
   "source": [
    "tab"
   ]
  },
  {
   "cell_type": "code",
   "execution_count": 91,
   "id": "a885737c",
   "metadata": {},
   "outputs": [
    {
     "data": {
      "text/plain": [
       "array([385, 109], dtype=int64)"
      ]
     },
     "execution_count": 91,
     "metadata": {},
     "output_type": "execute_result"
    }
   ],
   "source": [
    "tab[1]"
   ]
  },
  {
   "cell_type": "code",
   "execution_count": 92,
   "id": "d8d0bc80",
   "metadata": {},
   "outputs": [],
   "source": [
    "counts=tab[1]"
   ]
  },
  {
   "cell_type": "code",
   "execution_count": 93,
   "id": "e24ecca5",
   "metadata": {},
   "outputs": [
    {
     "data": {
      "text/plain": [
       "array([385, 109], dtype=int64)"
      ]
     },
     "execution_count": 93,
     "metadata": {},
     "output_type": "execute_result"
    }
   ],
   "source": [
    "counts"
   ]
  },
  {
   "cell_type": "code",
   "execution_count": 94,
   "id": "61d34240",
   "metadata": {},
   "outputs": [],
   "source": [
    "nobs=tab.sum(axis=0)"
   ]
  },
  {
   "cell_type": "code",
   "execution_count": 95,
   "id": "b136ea08",
   "metadata": {},
   "outputs": [
    {
     "data": {
      "text/plain": [
       "array([466, 843], dtype=int64)"
      ]
     },
     "execution_count": 95,
     "metadata": {},
     "output_type": "execute_result"
    }
   ],
   "source": [
    "nobs"
   ]
  },
  {
   "cell_type": "markdown",
   "id": "d39ea9a9",
   "metadata": {},
   "source": [
    "Probability of surviving by Gender "
   ]
  },
  {
   "cell_type": "code",
   "execution_count": 96,
   "id": "f181be46",
   "metadata": {},
   "outputs": [
    {
     "data": {
      "text/plain": [
       "array([0.82618026, 0.12930012])"
      ]
     },
     "execution_count": 96,
     "metadata": {},
     "output_type": "execute_result"
    }
   ],
   "source": [
    "counts/nobs"
   ]
  },
  {
   "cell_type": "markdown",
   "id": "5a72db0d",
   "metadata": {},
   "source": [
    "Comparing both probabilities  "
   ]
  },
  {
   "cell_type": "code",
   "execution_count": 97,
   "id": "f7287f87",
   "metadata": {},
   "outputs": [],
   "source": [
    "stat, pvalue = proportions_ztest(count=counts, nobs=nobs,  alternative='two-sided')"
   ]
  },
  {
   "cell_type": "code",
   "execution_count": 98,
   "id": "5e51971b",
   "metadata": {},
   "outputs": [
    {
     "data": {
      "text/plain": [
       "24.905334404307723"
      ]
     },
     "execution_count": 98,
     "metadata": {},
     "output_type": "execute_result"
    }
   ],
   "source": [
    "stat"
   ]
  },
  {
   "cell_type": "code",
   "execution_count": 99,
   "id": "5348cba8",
   "metadata": {},
   "outputs": [
    {
     "data": {
      "text/plain": [
       "6.513244629920008e-137"
      ]
     },
     "execution_count": 99,
     "metadata": {},
     "output_type": "execute_result"
    }
   ],
   "source": [
    "pvalue"
   ]
  },
  {
   "cell_type": "markdown",
   "id": "5b52a28c",
   "metadata": {},
   "source": [
    "**Exercise:** Comparing the surviving probability between different other groups. "
   ]
  },
  {
   "cell_type": "code",
   "execution_count": 100,
   "id": "e86e6819",
   "metadata": {},
   "outputs": [
    {
     "data": {
      "text/plain": [
       "Index(['PassengerId', 'Survived', 'Pclass', 'Name', 'Sex', 'Age', 'SibSp',\n",
       "       'Parch', 'Ticket', 'Fare', 'Cabin', 'Embarked'],\n",
       "      dtype='object')"
      ]
     },
     "execution_count": 100,
     "metadata": {},
     "output_type": "execute_result"
    }
   ],
   "source": [
    "df.columns"
   ]
  },
  {
   "cell_type": "code",
   "execution_count": null,
   "id": "37798912",
   "metadata": {},
   "outputs": [],
   "source": []
  }
 ],
 "metadata": {
  "kernelspec": {
   "display_name": "Python 3 (ipykernel)",
   "language": "python",
   "name": "python3"
  },
  "language_info": {
   "codemirror_mode": {
    "name": "ipython",
    "version": 3
   },
   "file_extension": ".py",
   "mimetype": "text/x-python",
   "name": "python",
   "nbconvert_exporter": "python",
   "pygments_lexer": "ipython3",
   "version": "3.9.7"
  },
  "latex_envs": {
   "LaTeX_envs_menu_present": true,
   "autoclose": false,
   "autocomplete": true,
   "bibliofile": "biblio.bib",
   "cite_by": "apalike",
   "current_citInitial": 1,
   "eqLabelWithNumbers": true,
   "eqNumInitial": 1,
   "hotkeys": {
    "equation": "Ctrl-E",
    "itemize": "Ctrl-I"
   },
   "labels_anchors": false,
   "latex_user_defs": false,
   "report_style_numbering": false,
   "user_envs_cfg": false
  },
  "toc": {
   "base_numbering": 1,
   "nav_menu": {},
   "number_sections": false,
   "sideBar": true,
   "skip_h1_title": true,
   "title_cell": "Table of Contents",
   "title_sidebar": "Contents",
   "toc_cell": true,
   "toc_position": {
    "height": "calc(100% - 180px)",
    "left": "10px",
    "top": "150px",
    "width": "165px"
   },
   "toc_section_display": true,
   "toc_window_display": true
  }
 },
 "nbformat": 4,
 "nbformat_minor": 5
}
