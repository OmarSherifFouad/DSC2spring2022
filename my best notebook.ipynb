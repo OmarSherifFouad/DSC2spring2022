{
 "cells": [
  {
   "cell_type": "code",
   "execution_count": 1,
   "id": "51b87332",
   "metadata": {},
   "outputs": [],
   "source": [
    "import numpy as np"
   ]
  },
  {
   "cell_type": "code",
   "execution_count": 2,
   "id": "e393e5d1",
   "metadata": {},
   "outputs": [],
   "source": [
    "x=np.random . random(10)"
   ]
  },
  {
   "cell_type": "code",
   "execution_count": 3,
   "id": "fb3669c6",
   "metadata": {},
   "outputs": [
    {
     "data": {
      "text/plain": [
       "array([0.4280245 , 0.66329084, 0.19266466, 0.61275537, 0.05277036,\n",
       "       0.29088836, 0.91205471, 0.23099077, 0.05778436, 0.36668359])"
      ]
     },
     "execution_count": 3,
     "metadata": {},
     "output_type": "execute_result"
    }
   ],
   "source": [
    "x"
   ]
  },
  {
   "cell_type": "code",
   "execution_count": null,
   "id": "0e3e2381",
   "metadata": {},
   "outputs": [],
   "source": []
  }
 ],
 "metadata": {
  "kernelspec": {
   "display_name": "Python 3 (ipykernel)",
   "language": "python",
   "name": "python3"
  },
  "language_info": {
   "codemirror_mode": {
    "name": "ipython",
    "version": 3
   },
   "file_extension": ".py",
   "mimetype": "text/x-python",
   "name": "python",
   "nbconvert_exporter": "python",
   "pygments_lexer": "ipython3",
   "version": "3.9.7"
  }
 },
 "nbformat": 4,
 "nbformat_minor": 5
}
