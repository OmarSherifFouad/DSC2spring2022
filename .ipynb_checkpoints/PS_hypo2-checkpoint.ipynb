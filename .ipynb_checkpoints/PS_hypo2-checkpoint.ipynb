{
 "cells": [
  {
   "cell_type": "markdown",
   "id": "4995592d",
   "metadata": {
    "toc": true
   },
   "source": [
    "<h1>Table of Contents<span class=\"tocSkip\"></span></h1>\n",
    "<div class=\"toc\"><ul class=\"toc-item\"></ul></div>"
   ]
  },
  {
   "cell_type": "markdown",
   "id": "8bf4f427",
   "metadata": {},
   "source": [
    "**Exercise** In previous years, 52% of parents believed that electronics and social media was the cause of their teenager’s lack of sleep. Do more parents today believe that their teenager’s lack of sleep is caused due to electronics and social media?\n",
    "\n",
    "Among 1018 people were surveyed. 56% of those who were surveyed believe that their teenager’s lack of sleep is caused due to electronics and social media.\n",
    "\n",
    "1. Can you write the Null and the Alternative Hypothesis of this research problem?\n",
    "2. Write the corresponding Python code?\n",
    "3. What's your conclusion?\n"
   ]
  },
  {
   "cell_type": "markdown",
   "id": "bf6bed2a",
   "metadata": {},
   "source": [
    "**Exercise**: In a survey of 247  Parents of Black Children, 36.8% of them report that their child has had some swimming lessons. Where as 38.9% of 308 Parents of Hispanic Children that their child has had some swimming lessons.\n",
    "\n",
    "Show how can we use a Python code to answer to the question:   Is there a significant difference between the population proportions of parents of black children and parents of Hispanic children who report that their child has had some swimming lessons?"
   ]
  },
  {
   "cell_type": "markdown",
   "id": "6c7ef388",
   "metadata": {},
   "source": [
    "**MCQ**"
   ]
  },
  {
   "cell_type": "markdown",
   "id": "44a17160",
   "metadata": {},
   "source": [
    "\n",
    "Let's consider the following Python code "
   ]
  },
  {
   "cell_type": "code",
   "execution_count": 4,
   "id": "40cc3507",
   "metadata": {},
   "outputs": [],
   "source": [
    "import numpy as np\n",
    "from statsmodels.stats.proportion import proportions_ztest\n",
    "stat, pvalue=proportions_ztest(count=72, nobs=80, value=.95, alternative='smaller')"
   ]
  },
  {
   "cell_type": "code",
   "execution_count": 5,
   "id": "3dbe2344",
   "metadata": {},
   "outputs": [
    {
     "data": {
      "text/plain": [
       "-1.4907119849998578"
      ]
     },
     "execution_count": 5,
     "metadata": {},
     "output_type": "execute_result"
    }
   ],
   "source": [
    "stat"
   ]
  },
  {
   "cell_type": "code",
   "execution_count": 6,
   "id": "88a55a07",
   "metadata": {},
   "outputs": [
    {
     "data": {
      "text/plain": [
       "0.06801856405707206"
      ]
     },
     "execution_count": 6,
     "metadata": {},
     "output_type": "execute_result"
    }
   ],
   "source": [
    "pvalue"
   ]
  },
  {
   "cell_type": "markdown",
   "id": "49b0a8ad",
   "metadata": {},
   "source": [
    "**Question 1** The code above test the following hypothesis\n",
    "\n",
    "    a. $H_0\\,: \\mu=.95$ vs $H_1\\,:\\mu\\leq .95$ where $\\mu$ is a mean parameter\n",
    "    b. $H_0\\,: p=.5$ vs $H_1\\,:p\\leq .5$ where $p$ is a proportion parameter \n",
    "    c. $H_0\\,: p=.95$ vs $H_1\\,:p\\leq .95$ where $p$ is a proportion parameter\n",
    "    d. $H_0\\,: p=.95$ vs $H_1\\,:p\\not= .95$ where $p$ is a proportion parameter "
   ]
  },
  {
   "cell_type": "markdown",
   "id": "ef8388b0",
   "metadata": {},
   "source": [
    "**Question 2** The output of the following code is"
   ]
  },
  {
   "cell_type": "code",
   "execution_count": 8,
   "id": "3c8f9955",
   "metadata": {},
   "outputs": [
    {
     "data": {
      "text/plain": [
       "0.9318878820332746"
      ]
     },
     "execution_count": 8,
     "metadata": {},
     "output_type": "execute_result"
    }
   ],
   "source": [
    "from scipy.stats import norm,t\n",
    "norm.cdf(1.49,0,1)"
   ]
  },
  {
   "cell_type": "code",
   "execution_count": 9,
   "id": "170883b0",
   "metadata": {},
   "outputs": [
    {
     "data": {
      "text/plain": [
       "0.9319814359429279"
      ]
     },
     "execution_count": 9,
     "metadata": {},
     "output_type": "execute_result"
    }
   ],
   "source": [
    "1-0.06801856405707206"
   ]
  },
  {
   "cell_type": "code",
   "execution_count": 10,
   "id": "0055be4c",
   "metadata": {},
   "outputs": [
    {
     "data": {
      "text/plain": [
       "0.136"
      ]
     },
     "execution_count": 10,
     "metadata": {},
     "output_type": "execute_result"
    }
   ],
   "source": [
    "2*0.068"
   ]
  },
  {
   "cell_type": "markdown",
   "id": "af097f6d",
   "metadata": {},
   "source": [
    "    a. 0.932\n",
    "    b. 0.068\n",
    "    c. 0.136\n",
    "    d. None of them"
   ]
  },
  {
   "cell_type": "markdown",
   "id": "5963ee28",
   "metadata": {},
   "source": [
    "**Question 3** The output of the following is "
   ]
  },
  {
   "cell_type": "code",
   "execution_count": 11,
   "id": "5559d7f6",
   "metadata": {},
   "outputs": [
    {
     "data": {
      "text/plain": [
       "-1.490853355246661"
      ]
     },
     "execution_count": 11,
     "metadata": {},
     "output_type": "execute_result"
    }
   ],
   "source": [
    "norm.ppf(0.068,0,1)"
   ]
  },
  {
   "cell_type": "markdown",
   "id": "ad6afa06",
   "metadata": {},
   "source": [
    "    a. -1.491\n",
    "    b. 1.491\n",
    "    c. Syntax Error\n",
    "    d. Warning message\n",
    "    e. None of them "
   ]
  },
  {
   "cell_type": "markdown",
   "id": "878ee328",
   "metadata": {},
   "source": [
    "**Question 4**  The output of the following code is "
   ]
  },
  {
   "cell_type": "code",
   "execution_count": 12,
   "id": "f7b278ec",
   "metadata": {},
   "outputs": [
    {
     "data": {
      "text/plain": [
       "-1.4907119849998578"
      ]
     },
     "execution_count": 12,
     "metadata": {},
     "output_type": "execute_result"
    }
   ],
   "source": [
    "stat, pvalue=proportions_ztest(count=72, nobs=80, value=.95)\n",
    "stat"
   ]
  },
  {
   "cell_type": "markdown",
   "id": "bea5f3ab",
   "metadata": {},
   "source": [
    "    a. 1.490853355246661\n",
    "    b. 0.06801856405707206\n",
    "    c. 0.9319814359429279\n",
    "    d. None of them"
   ]
  },
  {
   "cell_type": "markdown",
   "id": "3c211417",
   "metadata": {},
   "source": [
    "**Question 5**  The output of the following code is "
   ]
  },
  {
   "cell_type": "code",
   "execution_count": 13,
   "id": "a6ea3351",
   "metadata": {},
   "outputs": [
    {
     "data": {
      "text/plain": [
       "0.13603712811414412"
      ]
     },
     "execution_count": 13,
     "metadata": {},
     "output_type": "execute_result"
    }
   ],
   "source": [
    "stat, pvalue=proportions_ztest(count=72, nobs=80, value=.95)\n",
    "pvalue "
   ]
  },
  {
   "cell_type": "markdown",
   "id": "429c940f",
   "metadata": {},
   "source": [
    "    a. 0.06801856405707206\n",
    "    b. 0.9319814359429279\n",
    "    c. 0.13603712811414412\n",
    "    d.  None of them "
   ]
  },
  {
   "cell_type": "markdown",
   "id": "bf8b66a0",
   "metadata": {},
   "source": [
    "**Question 6**  Complete  the following code "
   ]
  },
  {
   "cell_type": "code",
   "execution_count": 14,
   "id": "a4b65780",
   "metadata": {},
   "outputs": [
    {
     "data": {
      "text/plain": [
       "0.9"
      ]
     },
     "execution_count": 14,
     "metadata": {},
     "output_type": "execute_result"
    }
   ],
   "source": [
    "phat=72/80\n",
    "phat"
   ]
  },
  {
   "cell_type": "code",
   "execution_count": 16,
   "id": "5d38ca59",
   "metadata": {},
   "outputs": [
    {
     "data": {
      "text/plain": [
       "0.3"
      ]
     },
     "execution_count": 16,
     "metadata": {},
     "output_type": "execute_result"
    }
   ],
   "source": [
    "sig=np.sqrt(phat*(1-phat))\n",
    "sig"
   ]
  },
  {
   "cell_type": "code",
   "execution_count": 17,
   "id": "b0dbf76d",
   "metadata": {},
   "outputs": [
    {
     "data": {
      "text/plain": [
       "-1.490711984999858"
      ]
     },
     "execution_count": 17,
     "metadata": {},
     "output_type": "execute_result"
    }
   ],
   "source": [
    "Z=(phat-.95)*np.sqrt(80)/sig\n",
    "Z"
   ]
  },
  {
   "cell_type": "code",
   "execution_count": 18,
   "id": "8f212ffd",
   "metadata": {},
   "outputs": [
    {
     "data": {
      "text/plain": [
       "0.06801856405707206"
      ]
     },
     "execution_count": 18,
     "metadata": {},
     "output_type": "execute_result"
    }
   ],
   "source": [
    "norm.cdf(Z,0,1)"
   ]
  },
  {
   "cell_type": "code",
   "execution_count": 19,
   "id": "032f7636",
   "metadata": {},
   "outputs": [
    {
     "data": {
      "text/plain": [
       "1.4907119849998578"
      ]
     },
     "execution_count": 19,
     "metadata": {},
     "output_type": "execute_result"
    }
   ],
   "source": [
    "norm.ppf(1-0.06801856405707206,0,1)"
   ]
  },
  {
   "cell_type": "code",
   "execution_count": null,
   "id": "87ab2d62",
   "metadata": {},
   "outputs": [],
   "source": []
  }
 ],
 "metadata": {
  "kernelspec": {
   "display_name": "Python 3 (ipykernel)",
   "language": "python",
   "name": "python3"
  },
  "language_info": {
   "codemirror_mode": {
    "name": "ipython",
    "version": 3
   },
   "file_extension": ".py",
   "mimetype": "text/x-python",
   "name": "python",
   "nbconvert_exporter": "python",
   "pygments_lexer": "ipython3",
   "version": "3.9.7"
  },
  "latex_envs": {
   "LaTeX_envs_menu_present": true,
   "autoclose": false,
   "autocomplete": true,
   "bibliofile": "biblio.bib",
   "cite_by": "apalike",
   "current_citInitial": 1,
   "eqLabelWithNumbers": true,
   "eqNumInitial": 1,
   "hotkeys": {
    "equation": "Ctrl-E",
    "itemize": "Ctrl-I"
   },
   "labels_anchors": false,
   "latex_user_defs": false,
   "report_style_numbering": false,
   "user_envs_cfg": false
  },
  "toc": {
   "base_numbering": 1,
   "nav_menu": {},
   "number_sections": true,
   "sideBar": true,
   "skip_h1_title": true,
   "title_cell": "Table of Contents",
   "title_sidebar": "Contents",
   "toc_cell": true,
   "toc_position": {},
   "toc_section_display": true,
   "toc_window_display": true
  }
 },
 "nbformat": 4,
 "nbformat_minor": 5
}
